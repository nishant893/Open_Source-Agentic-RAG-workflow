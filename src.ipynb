{
 "cells": [
  {
   "cell_type": "code",
   "execution_count": 1,
   "metadata": {},
   "outputs": [],
   "source": [
    "import os\n",
    "import getpass\n",
    "\n",
    "os.environ[\"LLAMA_CLOUD_API_KEY\"] = getpass.getpass(\"LLamaParse API Key:\")"
   ]
  },
  {
   "cell_type": "code",
   "execution_count": 2,
   "metadata": {},
   "outputs": [],
   "source": [
    "os.environ[\"GROQ_API_KEY\"] = getpass.getpass(\"GROQ_API_KEY:\")"
   ]
  },
  {
   "cell_type": "code",
   "execution_count": 3,
   "metadata": {},
   "outputs": [],
   "source": [
    "import nest_asyncio\n",
    "\n",
    "nest_asyncio.apply()"
   ]
  },
  {
   "cell_type": "code",
   "execution_count": 4,
   "metadata": {},
   "outputs": [],
   "source": [
    "from llama_parse import LlamaParse\n",
    "\n",
    "parser = LlamaParse(\n",
    "    result_type=\"markdown\",\n",
    "    verbose=True,\n",
    "    language=\"en\",\n",
    "    num_workers=1,\n",
    "    premium_mode = True\n",
    ")"
   ]
  },
  {
   "cell_type": "code",
   "execution_count": 7,
   "metadata": {},
   "outputs": [
    {
     "name": "stderr",
     "output_type": "stream",
     "text": [
      "Parsing files: 100%|██████████| 1/1 [01:54<00:00, 114.38s/it]\n"
     ]
    }
   ],
   "source": [
    "documents = parser.load_data([r\"C:\\Users\\nisha\\Desktop\\RAG_Assign\\RAG_Assign\\iesc111.pdf\"])"
   ]
  },
  {
   "cell_type": "code",
   "execution_count": 12,
   "metadata": {},
   "outputs": [
    {
     "name": "stdout",
     "output_type": "stream",
     "text": [
      "# Chapter 11\n",
      "\n",
      "## SOUND\n",
      "\n",
      "Everyday we hear sounds from various sources like humans, birds, bells, machines, vehicles, televisions, radios etc. Sound is a form of energy which produces a sensation of hearing in our ears. There are also other forms of energy like mechanical energy, light energy, etc. We have talked about mechanical energy in the previous chapters. You have been taught about conservation of energy, which states that we can neither create nor destroy energy. We can just change it from one form to another. When you clap, a sound is produced. Can you produce sound without utilising your energy? Which form of energy did you use to produce sound? In this chapter we are going to learn how sound is produced and how it is transmitted through a medium and received by our ears.\n",
      "\n",
      "### 11.1 Production of Sound\n",
      "\n",
      "#### Activity 11.1\n",
      "\n",
      "- Take a tuning fork and set it vibrating by striking its prong on a rubber pad. Bring it near your ear.\n",
      "- Do you hear any sound?\n",
      "- Touch one of the prongs of the vibrating tuning fork with your finger and share your experience with your friends.\n",
      "- Now, suspend a table tennis ball or a small plastic ball by a thread from a support [Take a big needle and a thread, put a knot at one end of the thread, and then with the help of the needle pass the thread through the ball]. Touch the ball gently with the prong of a vibrating tuning fork (Fig. 11.1).\n",
      "- Observe what happens and discuss with your friends.\n",
      "\n",
      "Fig. 11.1: Vibrating tuning fork just touching the suspended table tennis ball.\n",
      "\n",
      "#### Activity 11.2\n",
      "\n",
      "- Fill water in a beaker or a glass up to the brim. Gently touch the water surface with one of the prongs of the vibrating tuning fork, as shown in Fig. 11.2.\n",
      "- Next dip the prongs of the vibrating tuning fork in water, as shown in Fig. 11.3.\n",
      "- Observe what happens in both the cases.\n",
      "- Discuss with your friends why this happens.\n",
      "\n",
      "Fig. 11.2: One of the prongs of the vibrating tuning fork touching the water surface.\n",
      "\n",
      "[The image shows a diagram of a glass filled with water and a vibrating tuning fork touching the water surface.]\n",
      "\n",
      "Rationalised 2023-24\n"
     ]
    }
   ],
   "source": [
    "print(documents[0].text[::])"
   ]
  },
  {
   "cell_type": "code",
   "execution_count": 13,
   "metadata": {},
   "outputs": [
    {
     "name": "stdout",
     "output_type": "stream",
     "text": [
      "propagates through the medium. Compression is the region of high pressure and rarefaction is the region of low pressure. Pressure is related to the number of particles of a medium in a given volume. More density of the particles in the medium gives more pressure and vice versa. Thus, propagation of sound can be visualised as propagation of density variations or pressure variations in the medium.\n",
      "\n",
      "The regions where the coils become closer are called compressions (C) and the regions where the coils are further apart are called rarefactions (R). As we already know, sound propagates in the medium as a series of compressions and rarefactions. Now, we can compare the propagation of disturbance in a slinky with the sound propagation in the medium. These waves are called longitudinal waves. In these waves the individual particles of the medium move in a direction parallel to the direction of propagation of the disturbance. The particles do not move from one place to another but they simply oscillate back and forth about their position of rest. This is exactly how a sound wave propagates, hence sound waves are longitudinal waves.\n",
      "\n",
      "There is also another type of wave, called a transverse wave. In a transverse wave particles do not oscillate along the direction of wave propagation but oscillate up and down about their mean position as the wave travels. Thus, a transverse wave is the one in which the individual particles of the medium move about their mean positions in a direction perpendicular to the direction of wave propagation. When we drop a pebble in a pond, the waves you see on the water surface is an example of transverse wave. Light is a transverse wave but for light, the oscillations are not of the medium particles or their pressure or density— it is not a mechanical wave. You will come to know more about transverse waves in higher classes.\n",
      "\n",
      "## Question\n",
      "\n",
      "1. How does the sound produced by a vibrating object in a medium reach your ear?\n",
      "2. Explain how sound is produced by your school bell.\n",
      "3. Why are sound waves called mechanical waves?\n",
      "4. Suppose you and your friend are on the moon. Will you be able to hear any sound produced by your friend?\n",
      "\n",
      "### 11.2.1 SOUND WAVES ARE LONGITUDINAL WAVES\n",
      "\n",
      "#### Activity 11.4\n",
      "\n",
      "- Take a slinky. Ask your friend to hold one end. You hold the other end. Now stretch the slinky as shown in Fig. 11.5(a). Then give it a sharp push towards your friend.\n",
      "- What do you notice? If you move your hand pushing and pulling the slinky alternatively, what will you observe?\n",
      "- If you mark a dot on the slinky, you will observe that the dot on the slinky will move back and forth parallel to the direction of the propagation of the disturbance.\n",
      "\n",
      "Fig. 11.5: Longitudinal wave in a slinky.\n",
      "\n",
      "(a)\n",
      "\n",
      "(b)\n",
      "\n",
      "### 11.2.2 CHARACTERISTICS OF A SOUND WAVE\n",
      "\n",
      "We can describe a sound wave by its\n",
      "- frequency\n",
      "- amplitude and\n",
      "- speed.\n",
      "\n",
      "A sound wave in graphic form is shown in Fig. 11.6(c), which represents how density and pressure change when the sound wave moves in the medium. The density as well as the pressure of the medium at a given time varies with distance, above and below the average value of density and pressure. Fig. 11.6(a) and\n",
      "\n",
      "SOUND 129\n",
      "\n",
      "Rationalised 2023-24\n"
     ]
    }
   ],
   "source": [
    "print(documents[2].text[::])"
   ]
  },
  {
   "cell_type": "code",
   "execution_count": 14,
   "metadata": {},
   "outputs": [
    {
     "name": "stderr",
     "output_type": "stream",
     "text": [
      "c:\\Users\\nisha\\Desktop\\RAG_Assign\\RAG_Assign\\myenv\\lib\\site-packages\\tqdm\\auto.py:21: TqdmWarning: IProgress not found. Please update jupyter and ipywidgets. See https://ipywidgets.readthedocs.io/en/stable/user_install.html\n",
      "  from .autonotebook import tqdm as notebook_tqdm\n"
     ]
    }
   ],
   "source": [
    "from llama_index.llms.groq import Groq"
   ]
  },
  {
   "cell_type": "code",
   "execution_count": 15,
   "metadata": {},
   "outputs": [],
   "source": [
    "llm = Groq(model=\"llama3-70b-8192\", api_key=\"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\")\n",
    "from llama_index.core.llms import ChatMessage\n",
    "\n",
    "messages = [\n",
    "    ChatMessage(\n",
    "        role=\"system\", content=\"You are a pirate with a colorful personality\"\n",
    "    ),\n",
    "    ChatMessage(role=\"user\", content=\"What is your name\"),\n",
    "]\n",
    "resp = llm.chat(messages)"
   ]
  },
  {
   "cell_type": "code",
   "execution_count": 16,
   "metadata": {},
   "outputs": [
    {
     "name": "stdout",
     "output_type": "stream",
     "text": [
      "assistant: Arrr, me hearty! Me name be Captain Zephyr \"Blackheart\" McSnively, the most feared and infamous pirate to ever sail the Seven Seas! Me reputation precedes me, and me exploits be the stuff o' legend. Me ship, the \"Maverick's Revenge,\" be the fastest and most feared vessel on the high seas, crewed by the scurviest dogs and scallywags to ever hoist the Jolly Roger!\n",
      "\n",
      "But don't ye be thinkin' I be all about plunderin' and pillagin', matey! I be a pirate o' principle, with a heart o' gold and a sense o' humor as sharp as me trusty cutlass. I be a master o' disguise, a virtuoso o' villainy, and a sultan o' swashbucklin'!\n",
      "\n",
      "So, what be bringin' ye to these fair waters, matey? Are ye lookin' to join me crew and set sail fer a life o' adventure and riches? Or be ye lookin' to cross swords with the greatest pirate that ever lived? Either way, ye be in fer a wild ride with Captain Zephyr \"Blackheart\" McSnively at the helm!\n"
     ]
    }
   ],
   "source": [
    "print(resp)"
   ]
  },
  {
   "cell_type": "code",
   "execution_count": null,
   "metadata": {},
   "outputs": [],
   "source": [
    "\"\"\"from llama_index.core.node_parser import SentenceSplitter\n",
    "\n",
    "splitter = SentenceSplitter(\n",
    "    chunk_size=1024,\n",
    "    chunk_overlap=20,\n",
    ")\n",
    "nodes = splitter.get_nodes_from_documents(documents)\"\"\""
   ]
  },
  {
   "cell_type": "code",
   "execution_count": 18,
   "metadata": {},
   "outputs": [
    {
     "name": "stderr",
     "output_type": "stream",
     "text": [
      "c:\\Users\\nisha\\Desktop\\RAG_Assign\\RAG_Assign\\myenv\\lib\\site-packages\\huggingface_hub\\file_download.py:147: UserWarning: `huggingface_hub` cache-system uses symlinks by default to efficiently store duplicated files but your machine does not support them in C:\\Users\\nisha\\AppData\\Local\\llama_index\\models--BAAI--bge-small-en-v1.5. Caching files will still work but in a degraded version that might require more space on your disk. This warning can be disabled by setting the `HF_HUB_DISABLE_SYMLINKS_WARNING` environment variable. For more details, see https://huggingface.co/docs/huggingface_hub/how-to-cache#limitations.\n",
      "To support symlinks on Windows, you either need to activate Developer Mode or to run Python as an administrator. In order to activate developer mode, see this article: https://docs.microsoft.com/en-us/windows/apps/get-started/enable-your-device-for-development\n",
      "  warnings.warn(message)\n"
     ]
    }
   ],
   "source": [
    "from llama_index.embeddings.huggingface import HuggingFaceEmbedding\n",
    "embed_model = HuggingFaceEmbedding(model_name=\"BAAI/bge-small-en-v1.5\")\n"
   ]
  },
  {
   "cell_type": "code",
   "execution_count": 17,
   "metadata": {},
   "outputs": [],
   "source": [
    "from llama_index.core import VectorStoreIndex, SimpleDirectoryReader\n",
    "from llama_index.core import StorageContext\n",
    "from llama_index.embeddings.huggingface import HuggingFaceEmbedding\n",
    "from IPython.display import Markdown, display\n",
    "import chromadb"
   ]
  },
  {
   "cell_type": "code",
   "execution_count": 23,
   "metadata": {},
   "outputs": [],
   "source": [
    "from llama_index.vector_stores.chroma import ChromaVectorStore\n"
   ]
  },
  {
   "cell_type": "code",
   "execution_count": 20,
   "metadata": {},
   "outputs": [],
   "source": [
    "# create client and a new collection\n",
    "chroma_client = chromadb.EphemeralClient()\n",
    "chroma_collection = chroma_client.create_collection(\"quickstart\")\n"
   ]
  },
  {
   "cell_type": "code",
   "execution_count": 24,
   "metadata": {},
   "outputs": [],
   "source": [
    "# set up ChromaVectorStore and load in data\n",
    "vector_store = ChromaVectorStore(chroma_collection=chroma_collection)\n",
    "storage_context = StorageContext.from_defaults(vector_store=vector_store)\n",
    "index = VectorStoreIndex.from_documents(\n",
    "    documents, storage_context=storage_context, embed_model=embed_model\n",
    ")"
   ]
  },
  {
   "cell_type": "code",
   "execution_count": 25,
   "metadata": {},
   "outputs": [],
   "source": [
    "db = chromadb.PersistentClient(path=\"./chroma_db\")\n",
    "chroma_collection = db.get_or_create_collection(\"quickstart\")\n",
    "vector_store = ChromaVectorStore(chroma_collection=chroma_collection)\n",
    "storage_context = StorageContext.from_defaults(vector_store=vector_store)\n",
    "\n",
    "index = VectorStoreIndex.from_documents(\n",
    "    documents, storage_context=storage_context, embed_model=embed_model\n",
    ")\n"
   ]
  },
  {
   "cell_type": "code",
   "execution_count": 26,
   "metadata": {},
   "outputs": [],
   "source": [
    "# load from disk\n",
    "db2 = chromadb.PersistentClient(path=\"./chroma_db\")\n",
    "chroma_collection = db2.get_or_create_collection(\"quickstart\")\n",
    "vector_store = ChromaVectorStore(chroma_collection=chroma_collection)\n",
    "index = VectorStoreIndex.from_vector_store(\n",
    "    vector_store,\n",
    "    embed_model=embed_model,\n",
    ")\n"
   ]
  },
  {
   "cell_type": "code",
   "execution_count": 27,
   "metadata": {},
   "outputs": [],
   "source": [
    "from llama_index.core import Settings\n"
   ]
  },
  {
   "cell_type": "code",
   "execution_count": 28,
   "metadata": {},
   "outputs": [],
   "source": [
    "Settings.llm = llm\n",
    "Settings.embed_model = embed_model"
   ]
  },
  {
   "cell_type": "code",
   "execution_count": 29,
   "metadata": {},
   "outputs": [],
   "source": [
    "recursive_query_engine = index.as_query_engine(llm=llm\n",
    "    ,similarity_top_k=5, verbose=True\n",
    ")"
   ]
  },
  {
   "cell_type": "code",
   "execution_count": 30,
   "metadata": {},
   "outputs": [
    {
     "name": "stdout",
     "output_type": "stream",
     "text": [
      "Sound waves are called longitudinal waves because the individual particles of the medium move in a direction parallel to the direction of propagation of the disturbance, oscillating back and forth about their position of rest.\n"
     ]
    }
   ],
   "source": [
    "query = \"Why is sound wave called a longitudinal wave?\"\n",
    "response = recursive_query_engine.query(query)\n",
    "print(response)"
   ]
  },
  {
   "cell_type": "code",
   "execution_count": 32,
   "metadata": {},
   "outputs": [
    {
     "name": "stdout",
     "output_type": "stream",
     "text": [
      "• Sound properties such as pitch, loudness and quality are determined by the corresponding wave properties.\n",
      "\n",
      "• Loudness is a physiological response of the ear to the intensity of sound.\n",
      "\n",
      "• The amount of sound energy passing each second through unit area is called the intensity of sound.\n",
      "\n",
      "• The audible range of hearing for average human beings is in the frequency range of 20 Hz – 20 kHz.\n",
      "\n",
      "• Sound waves with frequencies below the audible range are termed \"infrasonic\" and those above the audible range are termed \"ultrasonic\".\n",
      "\n",
      "• Ultrasound has many medical and industrial applications.\n",
      "\n",
      "## Exercises\n",
      "\n",
      "1. What is sound and how is it produced?\n",
      "\n",
      "2. Describe with the help of a diagram, how compressions and rarefactions are produced in air near a source of sound.\n",
      "\n",
      "3. Why is sound wave called a longitudinal wave?\n",
      "\n",
      "4. Which characteristic of the sound helps you to identify your friend by his voice while sitting with others in a dark room?\n",
      "\n",
      "5. Flash and thunder are produced simultaneously. But thunder is heard a few seconds after the flash is seen, why?\n",
      "\n",
      "6. A person has a hearing range from 20 Hz to 20 kHz. What are the typical wavelengths of sound waves in air corresponding to these two frequencies? Take the speed of sound in air as 344 m s⁻¹.\n",
      "\n",
      "7. Two children are at opposite ends of an aluminium rod. One strikes the end of the rod with a stone. Find the ratio of times taken by the sound wave in air and in aluminium to reach the second child.\n",
      "\n",
      "8. The frequency of a source of sound is 100 Hz. How many times does it vibrate in a minute?\n",
      "\n",
      "9. Does sound follow the same laws of reflection as light does? Explain.\n",
      "\n",
      "10. When a sound is reflected from a distant object, an echo is produced. Let the distance between the reflecting surface and the source of sound production remains the same. Do you hear echo sound on a hotter day?\n",
      "\n",
      "11. Give two practical applications of reflection of sound waves.\n",
      "\n",
      "12. A stone is dropped from the top of a tower 500 m high into a pond of water at the base of the tower. When is the splash heard at the top? Given, g = 10 m s⁻² and speed of sound = 340 m s⁻¹.\n",
      "\n",
      "138 SCIENCE\n",
      "\n",
      "Rationalised 2023-24\n"
     ]
    }
   ],
   "source": [
    "print(documents[-2].text[::])"
   ]
  },
  {
   "cell_type": "code",
   "execution_count": 43,
   "metadata": {},
   "outputs": [
    {
     "name": "stdout",
     "output_type": "stream",
     "text": [
      "• Sound properties such as pitch, loudness and quality are determined by the corresponding wave properties.\n",
      "\n",
      "• Loudness is a physiological response of the ear to the intensity of sound.\n",
      "\n",
      "• The amount of sound energy passing each second through unit area is called the intensity of sound.\n",
      "\n",
      "• The audible range of hearing for average human beings is in the frequency range of 20 Hz – 20 kHz.\n",
      "\n",
      "• Sound waves with frequencies below the audible range are termed \"infrasonic\" and those above the audible range are termed \"ultrasonic\".\n",
      "\n",
      "• Ultrasound has many medical and industrial applications.\n",
      "\n",
      "## Exercises\n",
      "\n",
      "1. What is sound and how is it produced?\n",
      "\n",
      "2. Describe with the help of a diagram, how compressions and rarefactions are produced in air near a source of sound.\n",
      "\n",
      "3. Why is sound wave called a longitudinal wave?\n",
      "\n",
      "4. Which characteristic of the sound helps you to identify your friend by his voice while sitting with others in a dark room?\n",
      "\n",
      "5. Flash and thunder are produced simultaneously. But thunder is heard a few seconds after the flash is seen, why?\n",
      "\n",
      "6. A person has a hearing range from 20 Hz to 20 kHz. What are the typical wavelengths of sound waves in air corresponding to these two frequencies? Take the speed of sound in air as 344 m s⁻¹.\n",
      "\n",
      "7. Two children are at opposite ends of an aluminium rod. One strikes the end of the rod with a stone. Find the ratio of times taken by the sound wave in air and in aluminium to reach the second child.\n",
      "\n",
      "8. The frequency of a source of sound is 100 Hz. How many times does it vibrate in a minute?\n",
      "\n",
      "9. Does sound follow the same laws of reflection as light does? Explain.\n",
      "\n",
      "10. When a sound is reflected from a distant object, an echo is produced. Let the distance between the reflecting surface and the source of sound production remains the same. Do you hear echo sound on a hotter day?\n",
      "\n",
      "11. Give two practical applications of reflection of sound waves.\n",
      "\n",
      "12. A stone is dropped from the top of a tower 500 m high into a pond of water at the base of the tower. When is the splash heard at the top? Given, g = 10 m s⁻² and speed of sound = 340 m s⁻¹.\n",
      "\n",
      "138 SCIENCE\n",
      "\n",
      "Rationalised 2023-24\n"
     ]
    }
   ],
   "source": [
    "print(documents[-2].text[::])"
   ]
  },
  {
   "cell_type": "code",
   "execution_count": 45,
   "metadata": {},
   "outputs": [],
   "source": [
    "questions = {\n",
    "1 : \"What is sound and how is it produced?\",\n",
    "\n",
    "2: \"Describe with the help of a diagram, how compressions and rarefactions are produced in air near a source of sound.\",\n",
    "\n",
    "3: \"Why is sound wave called a longitudinal wave?\",\n",
    "\n",
    "4: \"Which characteristic of the sound helps you to identify your friend by his voice while sitting with others in a dark room?\",\n",
    "\n",
    "5: \"Flash and thunder are produced simultaneously. But thunder is heard a few seconds after the flash is seen, why?\",\n",
    "\n",
    "6: \"A person has a hearing range from 20 Hz to 20 kHz. What are the typical wavelengths of sound waves in air corresponding to these two frequencies? Take the speed of sound in air as 344 m s⁻¹.\",\n",
    "\n",
    "7: \"Two children are at opposite ends of an aluminium rod. One strikes the end of the rod with a stone. Find the ratio of times taken by the sound wave in air and in aluminium to reach the second child.\",\n",
    "\n",
    "8: \"The frequency of a source of sound is 100 Hz. How many times does it vibrate in a minute?\",\n",
    "\n",
    "9: \"Does sound follow the same laws of reflection as light does? Explain.\",\n",
    "\n",
    "10: \"When a sound is reflected from a distant object, an echo is produced. Let the distance between the reflecting surface and the source of sound production remains the same. Do you hear echo sound on a hotter day?\",\n",
    "\n",
    "11: \"Give two practical applications of reflection of sound waves.\",\n",
    "\n",
    "12: \"A stone is dropped from the top of a tower 500 m high into a pond of water at the base of the tower. When is the splash heard at the top? Given, g = 10 m s⁻² and speed of sound = 340 m s⁻¹.\",\n",
    "\n",
    "13: \"A sound wave travels at a speed of 339 m s⁻¹. If its wavelength is 1.5 cm, what is the frequency of the wave? Will it be audible?\",\n",
    "\n",
    "14: \"What is reverberation? How can it be reduced?\",\n",
    "\n",
    "15: \"What is loudness of sound? What factors does it depend on?\",\n",
    "\n",
    "16: \"How is ultrasound used for cleaning?\",\n",
    "\n",
    "17: \"Explain how defects in a metal block can be detected using ultrasound.\"\n",
    "}\n"
   ]
  },
  {
   "cell_type": "code",
   "execution_count": 38,
   "metadata": {},
   "outputs": [],
   "source": [
    "answers = []\n",
    "\n",
    "for value in questions.values(): \n",
    "    repo = recursive_query_engine.query(value)\n",
    "    answers.append(repo)"
   ]
  },
  {
   "cell_type": "code",
   "execution_count": 42,
   "metadata": {},
   "outputs": [
    {
     "name": "stdout",
     "output_type": "stream",
     "text": [
      "To find the frequency of the wave, we can use the formula: speed = wavelength × frequency. Rearranging the formula to solve for frequency, we get: frequency = speed / wavelength. Plugging in the given values, we get: frequency = 339 m/s / 0.015 m = 22600 Hz.\n",
      "\n",
      "Since the frequency of the wave is 22600 Hz, which is greater than 20000 Hz, it will not be audible to the human ear. The audible range of hearing for average human beings is in the frequency range of 20 Hz – 20 kHz.\n"
     ]
    }
   ],
   "source": [
    "print(answers[6])"
   ]
  },
  {
   "cell_type": "code",
   "execution_count": 48,
   "metadata": {},
   "outputs": [
    {
     "data": {
      "text/plain": [
       "dict_items([(1, 'What is sound and how is it produced?'), (2, 'Describe with the help of a diagram, how compressions and rarefactions are produced in air near a source of sound.'), (3, 'Why is sound wave called a longitudinal wave?'), (4, 'Which characteristic of the sound helps you to identify your friend by his voice while sitting with others in a dark room?'), (5, 'Flash and thunder are produced simultaneously. But thunder is heard a few seconds after the flash is seen, why?'), (6, 'A person has a hearing range from 20 Hz to 20 kHz. What are the typical wavelengths of sound waves in air corresponding to these two frequencies? Take the speed of sound in air as 344 m s⁻¹.'), (7, 'Two children are at opposite ends of an aluminium rod. One strikes the end of the rod with a stone. Find the ratio of times taken by the sound wave in air and in aluminium to reach the second child.'), (8, 'The frequency of a source of sound is 100 Hz. How many times does it vibrate in a minute?'), (9, 'Does sound follow the same laws of reflection as light does? Explain.'), (10, 'When a sound is reflected from a distant object, an echo is produced. Let the distance between the reflecting surface and the source of sound production remains the same. Do you hear echo sound on a hotter day?'), (11, 'Give two practical applications of reflection of sound waves.'), (12, 'A stone is dropped from the top of a tower 500 m high into a pond of water at the base of the tower. When is the splash heard at the top? Given, g = 10 m s⁻² and speed of sound = 340 m s⁻¹.'), (13, 'A sound wave travels at a speed of 339 m s⁻¹. If its wavelength is 1.5 cm, what is the frequency of the wave? Will it be audible?'), (14, 'What is reverberation? How can it be reduced?'), (15, 'What is loudness of sound? What factors does it depend on?'), (16, 'How is ultrasound used for cleaning?'), (17, 'Explain how defects in a metal block can be detected using ultrasound.')])"
      ]
     },
     "execution_count": 48,
     "metadata": {},
     "output_type": "execute_result"
    }
   ],
   "source": [
    "questions.items()"
   ]
  },
  {
   "cell_type": "code",
   "execution_count": 51,
   "metadata": {},
   "outputs": [],
   "source": [
    "ans = {}\n",
    "for key, value in questions.items():\n",
    "    ans[key] = recursive_query_engine.query(value)"
   ]
  },
  {
   "cell_type": "code",
   "execution_count": 63,
   "metadata": {},
   "outputs": [
    {
     "name": "stdout",
     "output_type": "stream",
     "text": [
      "Reverberation is the persistence of sound due to repeated reflections from surfaces, resulting in a prolonged sound that can be heard even after the original sound has stopped. To reduce reverberation, the roof and walls of a hall or auditorium can be covered with sound-absorbent materials like compressed fibreboard, rough plaster, or draperies. Additionally, selecting seat materials with sound-absorbing properties can also help reduce reverberation.\n"
     ]
    }
   ],
   "source": [
    "print(ans[14])"
   ]
  },
  {
   "cell_type": "code",
   "execution_count": null,
   "metadata": {},
   "outputs": [],
   "source": []
  }
 ],
 "metadata": {
  "kernelspec": {
   "display_name": "myenv",
   "language": "python",
   "name": "python3"
  },
  "language_info": {
   "codemirror_mode": {
    "name": "ipython",
    "version": 3
   },
   "file_extension": ".py",
   "mimetype": "text/x-python",
   "name": "python",
   "nbconvert_exporter": "python",
   "pygments_lexer": "ipython3",
   "version": "3.10.11"
  }
 },
 "nbformat": 4,
 "nbformat_minor": 2
}
