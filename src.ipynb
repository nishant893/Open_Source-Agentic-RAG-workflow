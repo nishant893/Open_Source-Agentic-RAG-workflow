{
 "cells": [
  {
   "cell_type": "code",
   "execution_count": 1,
   "metadata": {},
   "outputs": [],
   "source": [
    "import os\n",
    "import getpass\n",
    "\n",
    "os.environ[\"LLAMA_CLOUD_API_KEY\"] = getpass.getpass(\"LLamaParse API Key:\")"
   ]
  },
  {
   "cell_type": "code",
   "execution_count": 2,
   "metadata": {},
   "outputs": [],
   "source": [
    "os.environ[\"GROQ_API_KEY\"] = getpass.getpass(\"GROQ_API_KEY:\")"
   ]
  },
  {
   "cell_type": "code",
   "execution_count": null,
   "metadata": {},
   "outputs": [],
   "source": [
    "from llama_index.core import VectorStoreIndex, SimpleDirectoryReader\n",
    "from llama_index.core import StorageContext\n",
    "from llama_index.embeddings.huggingface import HuggingFaceEmbedding\n",
    "from IPython.display import Markdown, display\n",
    "import chromadb"
   ]
  },
  {
   "cell_type": "code",
   "execution_count": null,
   "metadata": {},
   "outputs": [],
   "source": [
    "from llama_index.vector_stores.chroma import ChromaVectorStore\n"
   ]
  },
  {
   "cell_type": "code",
   "execution_count": 3,
   "metadata": {},
   "outputs": [],
   "source": [
    "import nest_asyncio\n",
    "\n",
    "nest_asyncio.apply()"
   ]
  },
  {
   "cell_type": "code",
   "execution_count": 4,
   "metadata": {},
   "outputs": [],
   "source": [
    "from llama_parse import LlamaParse\n",
    "\n",
    "parser = LlamaParse(\n",
    "    result_type=\"markdown\",\n",
    "    verbose=True,\n",
    "    language=\"en\",\n",
    "    num_workers=1,\n",
    "    premium_mode = True\n",
    ")"
   ]
  },
  {
   "cell_type": "code",
   "execution_count": 5,
   "metadata": {},
   "outputs": [
    {
     "name": "stderr",
     "output_type": "stream",
     "text": [
      "Parsing files: 100%|██████████| 1/1 [00:20<00:00, 20.28s/it]\n"
     ]
    }
   ],
   "source": [
    "documents = parser.load_data([r\"C:\\Users\\nisha\\Desktop\\RAG_Assign\\RAG_Assign\\iesc111.pdf\"])"
   ]
  },
  {
   "cell_type": "code",
   "execution_count": 52,
   "metadata": {},
   "outputs": [
    {
     "data": {
      "text/plain": [
       "14"
      ]
     },
     "execution_count": 52,
     "metadata": {},
     "output_type": "execute_result"
    }
   ],
   "source": [
    "len(documents)"
   ]
  },
  {
   "cell_type": "code",
   "execution_count": 7,
   "metadata": {},
   "outputs": [
    {
     "name": "stdout",
     "output_type": "stream",
     "text": [
      "propagates through the medium. Compression is the region of high pressure and rarefaction is the region of low pressure. Pressure is related to the number of particles of a medium in a given volume. More density of the particles in the medium gives more pressure and vice versa. Thus, propagation of sound can be visualised as propagation of density variations or pressure variations in the medium.\n",
      "\n",
      "The regions where the coils become closer are called compressions (C) and the regions where the coils are further apart are called rarefactions (R). As we already know, sound propagates in the medium as a series of compressions and rarefactions. Now, we can compare the propagation of disturbance in a slinky with the sound propagation in the medium. These waves are called longitudinal waves. In these waves the individual particles of the medium move in a direction parallel to the direction of propagation of the disturbance. The particles do not move from one place to another but they simply oscillate back and forth about their position of rest. This is exactly how a sound wave propagates, hence sound waves are longitudinal waves.\n",
      "\n",
      "There is also another type of wave, called a transverse wave. In a transverse wave particles do not oscillate along the direction of wave propagation but oscillate up and down about their mean position as the wave travels. Thus, a transverse wave is the one in which the individual particles of the medium move about their mean positions in a direction perpendicular to the direction of wave propagation. When we drop a pebble in a pond, the waves you see on the water surface is an example of transverse wave. Light is a transverse wave but for light, the oscillations are not of the medium particles or their pressure or density— it is not a mechanical wave. You will come to know more about transverse waves in higher classes.\n",
      "\n",
      "## Question\n",
      "\n",
      "1. How does the sound produced by a vibrating object in a medium reach your ear?\n",
      "2. Explain how sound is produced by your school bell.\n",
      "3. Why are sound waves called mechanical waves?\n",
      "4. Suppose you and your friend are on the moon. Will you be able to hear any sound produced by your friend?\n",
      "\n",
      "### 11.2.1 SOUND WAVES ARE LONGITUDINAL WAVES\n",
      "\n",
      "#### Activity 11.4\n",
      "\n",
      "- Take a slinky. Ask your friend to hold one end. You hold the other end. Now stretch the slinky as shown in Fig. 11.5(a). Then give it a sharp push towards your friend.\n",
      "- What do you notice? If you move your hand pushing and pulling the slinky alternatively, what will you observe?\n",
      "- If you mark a dot on the slinky, you will observe that the dot on the slinky will move back and forth parallel to the direction of the propagation of the disturbance.\n",
      "\n",
      "Fig. 11.5: Longitudinal wave in a slinky.\n",
      "\n",
      "(a)\n",
      "\n",
      "(b)\n",
      "\n",
      "### 11.2.2 CHARACTERISTICS OF A SOUND WAVE\n",
      "\n",
      "We can describe a sound wave by its\n",
      "- frequency\n",
      "- amplitude and\n",
      "- speed.\n",
      "\n",
      "A sound wave in graphic form is shown in Fig. 11.6(c), which represents how density and pressure change when the sound wave moves in the medium. The density as well as the pressure of the medium at a given time varies with distance, above and below the average value of density and pressure. Fig. 11.6(a) and\n",
      "\n",
      "SOUND 129\n",
      "\n",
      "Rationalised 2023-24\n"
     ]
    }
   ],
   "source": [
    "print(documents[2].text[::])"
   ]
  },
  {
   "cell_type": "code",
   "execution_count": 8,
   "metadata": {},
   "outputs": [
    {
     "name": "stdout",
     "output_type": "stream",
     "text": [
      "Fig. 11.6(b) represent the density and pressure variations, respectively, as a sound wave propagates in the medium.\n",
      "\n",
      "Compressions are the regions where particles are crowded together and represented by the upper portion of the curve in Fig. 11.6(c). The peak represents the region of maximum compression. Thus, compressions are regions where density as well as pressure is high. Rarefactions are the regions of low pressure where particles are spread apart and are represented by the valley, that is, the lower portion of the curve in Fig. 11.6(c). A peak is called the crest and a valley is called the trough of a wave.\n",
      "\n",
      "The distance between two consecutive compressions (C) or two consecutive rarefactions (R) is called the wavelength, as shown in Fig. 11.6(c). The wavelength is usually represented by λ (Greek letter lambda). Its SI unit is metre (m).\n",
      "\n",
      "| Heinrich Rudolph Hertz |\n",
      "|-------------------------|\n",
      "| was born on 22 February 1857 in Hamburg, Germany and educated at the University of Berlin. He confirmed J.C. Maxwell's electromagnetic theory by his experiments. He laid the foundation for future development of radio, telephone, telegraph and even television. He also discovered the photoelectric effect which was later explained by Albert Einstein. The SI unit of frequency was named as hertz in his honour. |\n",
      "\n",
      "Frequency tells us how frequently an event occurs. Suppose you are beating a drum. How many times you are beating the drum in unit time is called the frequency of your beating the drum. We know that when sound is propagated through a medium, the\n",
      "\n",
      "Fig. 11.6: Sound propagates as density or pressure variations as shown in (a) and (b), (c) represents graphically the density and pressure variations.\n",
      "\n",
      "| Density variations |\n",
      "|--------------------|\n",
      "| [Diagram showing density variations in sound wave propagation] |\n",
      "\n",
      "| Pressure variations |\n",
      "|---------------------|\n",
      "| [Diagram showing pressure variations in sound wave propagation] |\n",
      "\n",
      "| Density or Pressure vs Distance |\n",
      "|----------------------------------|\n",
      "| [Graph showing density or pressure variations over distance, with crest, trough, and wavelength (λ) marked] |\n",
      "\n",
      "130\n",
      "\n",
      "SCIENCE\n",
      "\n",
      "Rationalised 2023-24\n"
     ]
    }
   ],
   "source": [
    "print(documents[3].text[::])"
   ]
  },
  {
   "cell_type": "code",
   "execution_count": 35,
   "metadata": {},
   "outputs": [],
   "source": [
    "from llama_index.llms.groq import Groq"
   ]
  },
  {
   "cell_type": "code",
   "execution_count": 36,
   "metadata": {},
   "outputs": [],
   "source": [
    "llm = Groq(model=\"llama3-70b-8192\", api_key=\"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\")\n",
    "from llama_index.core.llms import ChatMessage\n",
    "\n",
    "messages = [\n",
    "    ChatMessage(\n",
    "        role=\"system\", content=\"You are a pirate with a colorful personality\"\n",
    "    ),\n",
    "    ChatMessage(role=\"user\", content=\"What is your name\"),\n",
    "]\n",
    "resp = llm.chat(messages)"
   ]
  },
  {
   "cell_type": "code",
   "execution_count": 37,
   "metadata": {},
   "outputs": [
    {
     "name": "stdout",
     "output_type": "stream",
     "text": [
      "assistant: Arrr, me hearty! Me name be Captain Zephyr \"Blackheart\" McSnively, the most feared and infamous pirate to ever sail the Seven Seas! Me reputation precedes me, and me exploits be the stuff o' legend. Me ship, the \"Maverick's Revenge\", be the fastest and most feared vessel on the high seas, crewed by the scurviest dogs and scallywags to ever hoist the Jolly Roger!\n",
      "\n",
      "But don't ye be thinkin' I be all about plunderin' and pillagin', matey! I be a pirate o' principle, with a heart o' gold and a sense o' humor as sharp as me trusty cutlass. I be a master o' disguise, a virtuoso o' villainy, and a sultan o' swashbucklin'! So hoist the colors, me hearty, and let's set sail fer a life o' adventure and mayhem on the high seas! Yarrr!\n"
     ]
    }
   ],
   "source": [
    "print(resp)"
   ]
  },
  {
   "cell_type": "code",
   "execution_count": 46,
   "metadata": {},
   "outputs": [],
   "source": [
    "from llama_index.core.node_parser import SentenceSplitter\n",
    "from llama_index.core.node_parser import MarkdownNodeParser\n",
    "from llama_index.core.node_parser import MarkdownElementNodeParser\n"
   ]
  },
  {
   "cell_type": "code",
   "execution_count": 13,
   "metadata": {},
   "outputs": [
    {
     "data": {
      "text/plain": [
       "TextNode(id_='8f21af8e-30d5-4be4-a19e-7da79f1160b6', embedding=None, metadata={}, excluded_embed_metadata_keys=[], excluded_llm_metadata_keys=[], relationships={<NodeRelationship.SOURCE: '1'>: RelatedNodeInfo(node_id='60eb069c-96a8-4fc2-9f23-26af4ef65def', node_type=<ObjectType.DOCUMENT: '4'>, metadata={}, hash='b9c97f97060c58d1e6c2fb055eebdda3d3f2d08b384a6265784938b7ef9e2f12')}, text='# Chapter 11\\n\\n## SOUND\\n\\nEveryday we hear sounds from various sources like humans, birds, bells, machines, vehicles, televisions, radios etc. Sound is a form of energy which produces a sensation of hearing in our ears. There are also other forms of energy like mechanical energy, light energy, etc. We have talked about mechanical energy in the previous chapters. You have been taught about conservation of energy, which states that we can neither create nor destroy energy. We can just change it from one form to another. When you clap, a sound is produced. Can you produce sound without utilising your energy? Which form of energy did you use to produce sound? In this chapter we are going to learn how sound is produced and how it is transmitted through a medium and received by our ears.\\n\\n### 11.1 Production of Sound\\n\\n#### Activity 11.1\\n\\n- Take a tuning fork and set it vibrating by striking its prong on a rubber pad. Bring it near your ear.\\n- Do you hear any sound?\\n- Touch one of the prongs of the vibrating tuning fork with your finger and share your experience with your friends.\\n- Now, suspend a table tennis ball or a small plastic ball by a thread from a support [Take a big needle and a thread, put a knot at one end of the thread, and then with the help of the needle pass the thread through the ball]. Touch the ball gently with the prong of a vibrating tuning fork (Fig. 11.1).\\n- Observe what happens and discuss with your friends.\\n\\nFig. 11.1: Vibrating tuning fork just touching the suspended table tennis ball.\\n\\n#### Activity 11.2\\n\\n- Fill water in a beaker or a glass up to the brim. Gently touch the water surface with one of the prongs of the vibrating tuning fork, as shown in Fig. 11.2.\\n- Next dip the prongs of the vibrating tuning fork in water, as shown in Fig. 11.3.\\n- Observe what happens in both the cases.\\n- Discuss with your friends why this happens.\\n\\nFig. 11.2: One of the prongs of the vibrating tuning fork touching the water surface.\\n\\n[The image shows a diagram of a glass filled with water and a vibrating tuning fork touching the water surface.]\\n\\nRationalised 2023-24', mimetype='text/plain', start_char_idx=0, end_char_idx=2103, text_template='{metadata_str}\\n\\n{content}', metadata_template='{key}: {value}', metadata_seperator='\\n')"
      ]
     },
     "execution_count": 13,
     "metadata": {},
     "output_type": "execute_result"
    }
   ],
   "source": [
    "\n",
    "\n",
    "splitter = SentenceSplitter(\n",
    "    chunk_size=1024,\n",
    "    chunk_overlap=20,\n",
    ")\n",
    "nodes = splitter.get_nodes_from_documents(documents)\n",
    "\n",
    "nodes"
   ]
  },
  {
   "cell_type": "code",
   "execution_count": 16,
   "metadata": {},
   "outputs": [
    {
     "data": {
      "text/plain": [
       "14"
      ]
     },
     "execution_count": 16,
     "metadata": {},
     "output_type": "execute_result"
    }
   ],
   "source": [
    "len(nodes)"
   ]
  },
  {
   "cell_type": "code",
   "execution_count": 15,
   "metadata": {},
   "outputs": [
    {
     "data": {
      "text/plain": [
       "TextNode(id_='6c52dede-cd03-427c-8f08-eb37983b2681', embedding=None, metadata={}, excluded_embed_metadata_keys=[], excluded_llm_metadata_keys=[], relationships={<NodeRelationship.SOURCE: '1'>: RelatedNodeInfo(node_id='60eb069c-96a8-4fc2-9f23-26af4ef65def', node_type=<ObjectType.DOCUMENT: '4'>, metadata={}, hash='b9c97f97060c58d1e6c2fb055eebdda3d3f2d08b384a6265784938b7ef9e2f12'), <NodeRelationship.NEXT: '3'>: RelatedNodeInfo(node_id='8ffa0169-8dcd-45e9-aa3c-31c8483ff85e', node_type=<ObjectType.TEXT: '1'>, metadata={}, hash='ce8807df3795ea8f4b9b1d252e2877e2060c59110af3e1d34536827d62da7ce1')}, text='Chapter 11', mimetype='text/plain', start_char_idx=2, end_char_idx=12, text_template='{metadata_str}\\n\\n{content}', metadata_template='{key}: {value}', metadata_seperator='\\n')"
      ]
     },
     "execution_count": 15,
     "metadata": {},
     "output_type": "execute_result"
    }
   ],
   "source": [
    "\n",
    "splitter1 = MarkdownNodeParser(\n",
    "    include_metadata= False,\n",
    "    include_prev_next_rel= True,\n",
    ")\n",
    "\n",
    "nodes_markdown = splitter1.get_nodes_from_documents(documents)\n",
    "\n",
    "nodes_markdown[1]\n"
   ]
  },
  {
   "cell_type": "code",
   "execution_count": 82,
   "metadata": {},
   "outputs": [],
   "source": [
    "node_parser = MarkdownElementNodeParser(llm=llm, num_workers=8)"
   ]
  },
  {
   "cell_type": "code",
   "execution_count": 83,
   "metadata": {},
   "outputs": [
    {
     "name": "stderr",
     "output_type": "stream",
     "text": [
      "0it [00:00, ?it/s]\n",
      "0it [00:00, ?it/s]\n",
      "0it [00:00, ?it/s]\n",
      "0it [00:00, ?it/s]\n",
      "0it [00:00, ?it/s]\n",
      "0it [00:00, ?it/s]\n",
      "1it [00:00, ?it/s]\n",
      "0it [00:00, ?it/s]\n",
      "0it [00:00, ?it/s]\n",
      "0it [00:00, ?it/s]\n",
      "0it [00:00, ?it/s]\n",
      "0it [00:00, ?it/s]\n",
      "0it [00:00, ?it/s]\n",
      "0it [00:00, ?it/s]\n"
     ]
    }
   ],
   "source": [
    "nodes_markdown_element = node_parser.get_nodes_from_documents(documents=documents)"
   ]
  },
  {
   "cell_type": "code",
   "execution_count": 86,
   "metadata": {},
   "outputs": [
    {
     "data": {
      "text/plain": [
       "IndexNode(id_='db060258-4878-4705-be5c-386b4978e71f', embedding=None, metadata={'col_schema': 'Column: State\\nType: string\\nSummary: None\\n\\nColumn: Substance\\nType: string\\nSummary: None\\n\\nColumn: Speed in m/s\\nType: number\\nSummary: None'}, excluded_embed_metadata_keys=['col_schema'], excluded_llm_metadata_keys=[], relationships={<NodeRelationship.SOURCE: '1'>: RelatedNodeInfo(node_id='7a502ce8-cada-4f01-b621-6b8f4ae55c54', node_type=<ObjectType.DOCUMENT: '4'>, metadata={}, hash='9d0d77c9411a751597c9f7f9be255d1ae84b92311c71dcf545bdc170e8689b54'), <NodeRelationship.PREVIOUS: '2'>: RelatedNodeInfo(node_id='56f63ebd-6025-4439-8286-993512753375', node_type=<ObjectType.TEXT: '1'>, metadata={}, hash='d8f6433e378187647f66887e09562443b2f6efd17af31115e71054d502320695'), <NodeRelationship.NEXT: '3'>: RelatedNodeInfo(node_id='8ea8291c-cc0c-4de4-a8a9-be49d3a6b694', node_type=<ObjectType.TEXT: '1'>, metadata={'table_df': \"{' State   ': {0: ' Solids  ', 1: '         ', 2: '         ', 3: '         ', 4: '         ', 5: '         ', 6: ' Liquids ', 7: '         ', 8: '         ', 9: '         ', 10: ' Gases   ', 11: '         ', 12: '         ', 13: '         ', 14: '         '}, ' Substance       ': {0: ' Aluminium       ', 1: ' Nickel          ', 2: ' Steel           ', 3: ' Iron            ', 4: ' Brass           ', 5: ' Glass (Flint)   ', 6: ' Water (Sea)     ', 7: ' Water (distilled)', 8: ' Ethanol         ', 9: ' Methanol        ', 10: ' Hydrogen        ', 11: ' Helium          ', 12: ' Air             ', 13: ' Oxygen          ', 14: ' Sulphur dioxide '}, ' Speed in m/s ': {0: 6420, 1: 6040, 2: 5960, 3: 5950, 4: 4700, 5: 3980, 6: 1531, 7: 1498, 8: 1207, 9: 1103, 10: 1284, 11: 965, 12: 346, 13: 316, 14: 213}}\", 'table_summary': 'Speed of sound in different substances,\\nwith the following table title:\\nSpeed of sound in different substances,\\nwith the following columns:\\n- State: None\\n- Substance: None\\n- Speed in m/s: None\\n'}, hash='4fbbe60bcc87e8f64bf44087080e1099764bc1a1c75d9aeaab037b41c456f2cc')}, text='Speed of sound in different substances,\\nwith the following table title:\\nSpeed of sound in different substances,\\nwith the following columns:\\n- State: None\\n- Substance: None\\n- Speed in m/s: None\\n', mimetype='text/plain', start_char_idx=969, end_char_idx=1734, text_template='{metadata_str}\\n\\n{content}', metadata_template='{key}: {value}', metadata_seperator='\\n', index_id='8ea8291c-cc0c-4de4-a8a9-be49d3a6b694', obj=None)"
      ]
     },
     "execution_count": 86,
     "metadata": {},
     "output_type": "execute_result"
    }
   ],
   "source": [
    "nodes_markdown_element[7]"
   ]
  },
  {
   "cell_type": "code",
   "execution_count": 87,
   "metadata": {},
   "outputs": [],
   "source": [
    "base_nodes, objects = node_parser.get_nodes_and_objects(nodes_markdown_element)"
   ]
  },
  {
   "cell_type": "code",
   "execution_count": 88,
   "metadata": {},
   "outputs": [],
   "source": [
    "index_markdown_element = VectorStoreIndex(nodes=base_nodes+objects)"
   ]
  },
  {
   "cell_type": "code",
   "execution_count": null,
   "metadata": {},
   "outputs": [],
   "source": []
  },
  {
   "cell_type": "code",
   "execution_count": 60,
   "metadata": {},
   "outputs": [
    {
     "name": "stdout",
     "output_type": "stream",
     "text": [
      "Collecting git+https://github.com/FlagOpen/FlagEmbedding.git\n",
      "  Cloning https://github.com/FlagOpen/FlagEmbedding.git to c:\\users\\nisha\\appdata\\local\\temp\\pip-req-build-or150le_\n",
      "  Resolved https://github.com/FlagOpen/FlagEmbedding.git to commit 1d4a772217981bda5837092d642f48c0bab6516b\n",
      "  Installing build dependencies: started\n",
      "  Installing build dependencies: finished with status 'done'\n",
      "  Getting requirements to build wheel: started\n",
      "  Getting requirements to build wheel: finished with status 'done'\n",
      "  Preparing metadata (pyproject.toml): started\n",
      "  Preparing metadata (pyproject.toml): finished with status 'done'\n",
      "Requirement already satisfied: llama-index-postprocessor-flag-embedding-reranker in c:\\users\\nisha\\desktop\\rag_assign\\rag_assign\\myenv\\lib\\site-packages (0.2.0)\n",
      "Requirement already satisfied: llama-index-core<0.12.0,>=0.11.0 in c:\\users\\nisha\\desktop\\rag_assign\\rag_assign\\myenv\\lib\\site-packages (from llama-index-postprocessor-flag-embedding-reranker) (0.11.11)\n",
      "Requirement already satisfied: torch>=1.6.0 in c:\\users\\nisha\\desktop\\rag_assign\\rag_assign\\myenv\\lib\\site-packages (from FlagEmbedding==1.2.11) (2.4.1)\n",
      "Requirement already satisfied: transformers>=4.33.0 in c:\\users\\nisha\\desktop\\rag_assign\\rag_assign\\myenv\\lib\\site-packages (from FlagEmbedding==1.2.11) (4.44.2)\n",
      "Requirement already satisfied: datasets in c:\\users\\nisha\\desktop\\rag_assign\\rag_assign\\myenv\\lib\\site-packages (from FlagEmbedding==1.2.11) (3.0.0)\n",
      "Requirement already satisfied: accelerate>=0.20.1 in c:\\users\\nisha\\desktop\\rag_assign\\rag_assign\\myenv\\lib\\site-packages (from FlagEmbedding==1.2.11) (0.34.2)\n",
      "Requirement already satisfied: sentence-transformers in c:\\users\\nisha\\desktop\\rag_assign\\rag_assign\\myenv\\lib\\site-packages (from FlagEmbedding==1.2.11) (2.7.0)\n",
      "Requirement already satisfied: peft in c:\\users\\nisha\\desktop\\rag_assign\\rag_assign\\myenv\\lib\\site-packages (from FlagEmbedding==1.2.11) (0.13.0)\n",
      "Requirement already satisfied: numpy<3.0.0,>=1.17 in c:\\users\\nisha\\desktop\\rag_assign\\rag_assign\\myenv\\lib\\site-packages (from accelerate>=0.20.1->FlagEmbedding==1.2.11) (1.26.4)\n",
      "Requirement already satisfied: packaging>=20.0 in c:\\users\\nisha\\desktop\\rag_assign\\rag_assign\\myenv\\lib\\site-packages (from accelerate>=0.20.1->FlagEmbedding==1.2.11) (24.1)\n",
      "Requirement already satisfied: psutil in c:\\users\\nisha\\desktop\\rag_assign\\rag_assign\\myenv\\lib\\site-packages (from accelerate>=0.20.1->FlagEmbedding==1.2.11) (6.0.0)\n",
      "Requirement already satisfied: pyyaml in c:\\users\\nisha\\desktop\\rag_assign\\rag_assign\\myenv\\lib\\site-packages (from accelerate>=0.20.1->FlagEmbedding==1.2.11) (6.0.2)\n",
      "Requirement already satisfied: huggingface-hub>=0.21.0 in c:\\users\\nisha\\desktop\\rag_assign\\rag_assign\\myenv\\lib\\site-packages (from accelerate>=0.20.1->FlagEmbedding==1.2.11) (0.25.0)\n",
      "Requirement already satisfied: safetensors>=0.4.3 in c:\\users\\nisha\\desktop\\rag_assign\\rag_assign\\myenv\\lib\\site-packages (from accelerate>=0.20.1->FlagEmbedding==1.2.11) (0.4.5)\n",
      "Requirement already satisfied: SQLAlchemy>=1.4.49 in c:\\users\\nisha\\desktop\\rag_assign\\rag_assign\\myenv\\lib\\site-packages (from SQLAlchemy[asyncio]>=1.4.49->llama-index-core<0.12.0,>=0.11.0->llama-index-postprocessor-flag-embedding-reranker) (2.0.35)\n",
      "Requirement already satisfied: aiohttp<4.0.0,>=3.8.6 in c:\\users\\nisha\\desktop\\rag_assign\\rag_assign\\myenv\\lib\\site-packages (from llama-index-core<0.12.0,>=0.11.0->llama-index-postprocessor-flag-embedding-reranker) (3.10.5)\n",
      "Requirement already satisfied: dataclasses-json in c:\\users\\nisha\\desktop\\rag_assign\\rag_assign\\myenv\\lib\\site-packages (from llama-index-core<0.12.0,>=0.11.0->llama-index-postprocessor-flag-embedding-reranker) (0.6.7)\n",
      "Requirement already satisfied: deprecated>=1.2.9.3 in c:\\users\\nisha\\desktop\\rag_assign\\rag_assign\\myenv\\lib\\site-packages (from llama-index-core<0.12.0,>=0.11.0->llama-index-postprocessor-flag-embedding-reranker) (1.2.14)\n",
      "Requirement already satisfied: dirtyjson<2.0.0,>=1.0.8 in c:\\users\\nisha\\desktop\\rag_assign\\rag_assign\\myenv\\lib\\site-packages (from llama-index-core<0.12.0,>=0.11.0->llama-index-postprocessor-flag-embedding-reranker) (1.0.8)\n",
      "Requirement already satisfied: fsspec>=2023.5.0 in c:\\users\\nisha\\desktop\\rag_assign\\rag_assign\\myenv\\lib\\site-packages (from llama-index-core<0.12.0,>=0.11.0->llama-index-postprocessor-flag-embedding-reranker) (2024.6.1)\n",
      "Requirement already satisfied: httpx in c:\\users\\nisha\\desktop\\rag_assign\\rag_assign\\myenv\\lib\\site-packages (from llama-index-core<0.12.0,>=0.11.0->llama-index-postprocessor-flag-embedding-reranker) (0.27.2)\n",
      "Requirement already satisfied: nest-asyncio<2.0.0,>=1.5.8 in c:\\users\\nisha\\desktop\\rag_assign\\rag_assign\\myenv\\lib\\site-packages (from llama-index-core<0.12.0,>=0.11.0->llama-index-postprocessor-flag-embedding-reranker) (1.6.0)\n",
      "Requirement already satisfied: networkx>=3.0 in c:\\users\\nisha\\desktop\\rag_assign\\rag_assign\\myenv\\lib\\site-packages (from llama-index-core<0.12.0,>=0.11.0->llama-index-postprocessor-flag-embedding-reranker) (3.3)\n",
      "Requirement already satisfied: nltk>3.8.1 in c:\\users\\nisha\\desktop\\rag_assign\\rag_assign\\myenv\\lib\\site-packages (from llama-index-core<0.12.0,>=0.11.0->llama-index-postprocessor-flag-embedding-reranker) (3.9.1)\n",
      "Requirement already satisfied: pillow>=9.0.0 in c:\\users\\nisha\\desktop\\rag_assign\\rag_assign\\myenv\\lib\\site-packages (from llama-index-core<0.12.0,>=0.11.0->llama-index-postprocessor-flag-embedding-reranker) (10.4.0)\n",
      "Requirement already satisfied: pydantic<3.0.0,>=2.7.0 in c:\\users\\nisha\\desktop\\rag_assign\\rag_assign\\myenv\\lib\\site-packages (from llama-index-core<0.12.0,>=0.11.0->llama-index-postprocessor-flag-embedding-reranker) (2.9.2)\n",
      "Requirement already satisfied: requests>=2.31.0 in c:\\users\\nisha\\desktop\\rag_assign\\rag_assign\\myenv\\lib\\site-packages (from llama-index-core<0.12.0,>=0.11.0->llama-index-postprocessor-flag-embedding-reranker) (2.32.3)\n",
      "Requirement already satisfied: tenacity!=8.4.0,<9.0.0,>=8.2.0 in c:\\users\\nisha\\desktop\\rag_assign\\rag_assign\\myenv\\lib\\site-packages (from llama-index-core<0.12.0,>=0.11.0->llama-index-postprocessor-flag-embedding-reranker) (8.5.0)\n",
      "Requirement already satisfied: tiktoken>=0.3.3 in c:\\users\\nisha\\desktop\\rag_assign\\rag_assign\\myenv\\lib\\site-packages (from llama-index-core<0.12.0,>=0.11.0->llama-index-postprocessor-flag-embedding-reranker) (0.7.0)\n",
      "Requirement already satisfied: tqdm<5.0.0,>=4.66.1 in c:\\users\\nisha\\desktop\\rag_assign\\rag_assign\\myenv\\lib\\site-packages (from llama-index-core<0.12.0,>=0.11.0->llama-index-postprocessor-flag-embedding-reranker) (4.66.5)\n",
      "Requirement already satisfied: typing-extensions>=4.5.0 in c:\\users\\nisha\\desktop\\rag_assign\\rag_assign\\myenv\\lib\\site-packages (from llama-index-core<0.12.0,>=0.11.0->llama-index-postprocessor-flag-embedding-reranker) (4.12.2)\n",
      "Requirement already satisfied: typing-inspect>=0.8.0 in c:\\users\\nisha\\desktop\\rag_assign\\rag_assign\\myenv\\lib\\site-packages (from llama-index-core<0.12.0,>=0.11.0->llama-index-postprocessor-flag-embedding-reranker) (0.9.0)\n",
      "Requirement already satisfied: wrapt in c:\\users\\nisha\\desktop\\rag_assign\\rag_assign\\myenv\\lib\\site-packages (from llama-index-core<0.12.0,>=0.11.0->llama-index-postprocessor-flag-embedding-reranker) (1.16.0)\n",
      "Requirement already satisfied: filelock in c:\\users\\nisha\\desktop\\rag_assign\\rag_assign\\myenv\\lib\\site-packages (from torch>=1.6.0->FlagEmbedding==1.2.11) (3.16.1)\n",
      "Requirement already satisfied: sympy in c:\\users\\nisha\\desktop\\rag_assign\\rag_assign\\myenv\\lib\\site-packages (from torch>=1.6.0->FlagEmbedding==1.2.11) (1.13.3)\n",
      "Requirement already satisfied: jinja2 in c:\\users\\nisha\\desktop\\rag_assign\\rag_assign\\myenv\\lib\\site-packages (from torch>=1.6.0->FlagEmbedding==1.2.11) (3.1.4)\n",
      "Requirement already satisfied: regex!=2019.12.17 in c:\\users\\nisha\\desktop\\rag_assign\\rag_assign\\myenv\\lib\\site-packages (from transformers>=4.33.0->FlagEmbedding==1.2.11) (2024.9.11)\n",
      "Requirement already satisfied: tokenizers<0.20,>=0.19 in c:\\users\\nisha\\desktop\\rag_assign\\rag_assign\\myenv\\lib\\site-packages (from transformers>=4.33.0->FlagEmbedding==1.2.11) (0.19.1)\n",
      "Requirement already satisfied: pyarrow>=15.0.0 in c:\\users\\nisha\\desktop\\rag_assign\\rag_assign\\myenv\\lib\\site-packages (from datasets->FlagEmbedding==1.2.11) (17.0.0)\n",
      "Requirement already satisfied: dill<0.3.9,>=0.3.0 in c:\\users\\nisha\\desktop\\rag_assign\\rag_assign\\myenv\\lib\\site-packages (from datasets->FlagEmbedding==1.2.11) (0.3.8)\n",
      "Requirement already satisfied: pandas in c:\\users\\nisha\\desktop\\rag_assign\\rag_assign\\myenv\\lib\\site-packages (from datasets->FlagEmbedding==1.2.11) (2.2.2)\n",
      "Requirement already satisfied: xxhash in c:\\users\\nisha\\desktop\\rag_assign\\rag_assign\\myenv\\lib\\site-packages (from datasets->FlagEmbedding==1.2.11) (3.5.0)\n",
      "Requirement already satisfied: multiprocess in c:\\users\\nisha\\desktop\\rag_assign\\rag_assign\\myenv\\lib\\site-packages (from datasets->FlagEmbedding==1.2.11) (0.70.16)\n",
      "Requirement already satisfied: scikit-learn in c:\\users\\nisha\\desktop\\rag_assign\\rag_assign\\myenv\\lib\\site-packages (from sentence-transformers->FlagEmbedding==1.2.11) (1.5.2)\n",
      "Requirement already satisfied: scipy in c:\\users\\nisha\\desktop\\rag_assign\\rag_assign\\myenv\\lib\\site-packages (from sentence-transformers->FlagEmbedding==1.2.11) (1.14.1)\n",
      "Requirement already satisfied: aiohappyeyeballs>=2.3.0 in c:\\users\\nisha\\desktop\\rag_assign\\rag_assign\\myenv\\lib\\site-packages (from aiohttp<4.0.0,>=3.8.6->llama-index-core<0.12.0,>=0.11.0->llama-index-postprocessor-flag-embedding-reranker) (2.4.0)\n",
      "Requirement already satisfied: aiosignal>=1.1.2 in c:\\users\\nisha\\desktop\\rag_assign\\rag_assign\\myenv\\lib\\site-packages (from aiohttp<4.0.0,>=3.8.6->llama-index-core<0.12.0,>=0.11.0->llama-index-postprocessor-flag-embedding-reranker) (1.3.1)\n",
      "Requirement already satisfied: attrs>=17.3.0 in c:\\users\\nisha\\desktop\\rag_assign\\rag_assign\\myenv\\lib\\site-packages (from aiohttp<4.0.0,>=3.8.6->llama-index-core<0.12.0,>=0.11.0->llama-index-postprocessor-flag-embedding-reranker) (24.2.0)\n",
      "Requirement already satisfied: frozenlist>=1.1.1 in c:\\users\\nisha\\desktop\\rag_assign\\rag_assign\\myenv\\lib\\site-packages (from aiohttp<4.0.0,>=3.8.6->llama-index-core<0.12.0,>=0.11.0->llama-index-postprocessor-flag-embedding-reranker) (1.4.1)\n",
      "Requirement already satisfied: multidict<7.0,>=4.5 in c:\\users\\nisha\\desktop\\rag_assign\\rag_assign\\myenv\\lib\\site-packages (from aiohttp<4.0.0,>=3.8.6->llama-index-core<0.12.0,>=0.11.0->llama-index-postprocessor-flag-embedding-reranker) (6.1.0)\n",
      "Requirement already satisfied: yarl<2.0,>=1.0 in c:\\users\\nisha\\desktop\\rag_assign\\rag_assign\\myenv\\lib\\site-packages (from aiohttp<4.0.0,>=3.8.6->llama-index-core<0.12.0,>=0.11.0->llama-index-postprocessor-flag-embedding-reranker) (1.11.1)\n",
      "Requirement already satisfied: async-timeout<5.0,>=4.0 in c:\\users\\nisha\\desktop\\rag_assign\\rag_assign\\myenv\\lib\\site-packages (from aiohttp<4.0.0,>=3.8.6->llama-index-core<0.12.0,>=0.11.0->llama-index-postprocessor-flag-embedding-reranker) (4.0.3)\n",
      "Requirement already satisfied: click in c:\\users\\nisha\\desktop\\rag_assign\\rag_assign\\myenv\\lib\\site-packages (from nltk>3.8.1->llama-index-core<0.12.0,>=0.11.0->llama-index-postprocessor-flag-embedding-reranker) (8.1.7)\n",
      "Requirement already satisfied: joblib in c:\\users\\nisha\\desktop\\rag_assign\\rag_assign\\myenv\\lib\\site-packages (from nltk>3.8.1->llama-index-core<0.12.0,>=0.11.0->llama-index-postprocessor-flag-embedding-reranker) (1.4.2)\n",
      "Requirement already satisfied: annotated-types>=0.6.0 in c:\\users\\nisha\\desktop\\rag_assign\\rag_assign\\myenv\\lib\\site-packages (from pydantic<3.0.0,>=2.7.0->llama-index-core<0.12.0,>=0.11.0->llama-index-postprocessor-flag-embedding-reranker) (0.7.0)\n",
      "Requirement already satisfied: pydantic-core==2.23.4 in c:\\users\\nisha\\desktop\\rag_assign\\rag_assign\\myenv\\lib\\site-packages (from pydantic<3.0.0,>=2.7.0->llama-index-core<0.12.0,>=0.11.0->llama-index-postprocessor-flag-embedding-reranker) (2.23.4)\n",
      "Requirement already satisfied: charset-normalizer<4,>=2 in c:\\users\\nisha\\desktop\\rag_assign\\rag_assign\\myenv\\lib\\site-packages (from requests>=2.31.0->llama-index-core<0.12.0,>=0.11.0->llama-index-postprocessor-flag-embedding-reranker) (3.3.2)\n",
      "Requirement already satisfied: idna<4,>=2.5 in c:\\users\\nisha\\desktop\\rag_assign\\rag_assign\\myenv\\lib\\site-packages (from requests>=2.31.0->llama-index-core<0.12.0,>=0.11.0->llama-index-postprocessor-flag-embedding-reranker) (3.10)\n",
      "Requirement already satisfied: urllib3<3,>=1.21.1 in c:\\users\\nisha\\desktop\\rag_assign\\rag_assign\\myenv\\lib\\site-packages (from requests>=2.31.0->llama-index-core<0.12.0,>=0.11.0->llama-index-postprocessor-flag-embedding-reranker) (2.2.3)\n",
      "Requirement already satisfied: certifi>=2017.4.17 in c:\\users\\nisha\\desktop\\rag_assign\\rag_assign\\myenv\\lib\\site-packages (from requests>=2.31.0->llama-index-core<0.12.0,>=0.11.0->llama-index-postprocessor-flag-embedding-reranker) (2024.8.30)\n",
      "Requirement already satisfied: greenlet!=0.4.17 in c:\\users\\nisha\\desktop\\rag_assign\\rag_assign\\myenv\\lib\\site-packages (from SQLAlchemy>=1.4.49->SQLAlchemy[asyncio]>=1.4.49->llama-index-core<0.12.0,>=0.11.0->llama-index-postprocessor-flag-embedding-reranker) (3.1.0)\n",
      "Requirement already satisfied: colorama in c:\\users\\nisha\\desktop\\rag_assign\\rag_assign\\myenv\\lib\\site-packages (from tqdm<5.0.0,>=4.66.1->llama-index-core<0.12.0,>=0.11.0->llama-index-postprocessor-flag-embedding-reranker) (0.4.6)\n",
      "Requirement already satisfied: mypy-extensions>=0.3.0 in c:\\users\\nisha\\desktop\\rag_assign\\rag_assign\\myenv\\lib\\site-packages (from typing-inspect>=0.8.0->llama-index-core<0.12.0,>=0.11.0->llama-index-postprocessor-flag-embedding-reranker) (1.0.0)\n",
      "Requirement already satisfied: marshmallow<4.0.0,>=3.18.0 in c:\\users\\nisha\\desktop\\rag_assign\\rag_assign\\myenv\\lib\\site-packages (from dataclasses-json->llama-index-core<0.12.0,>=0.11.0->llama-index-postprocessor-flag-embedding-reranker) (3.22.0)\n",
      "Requirement already satisfied: anyio in c:\\users\\nisha\\desktop\\rag_assign\\rag_assign\\myenv\\lib\\site-packages (from httpx->llama-index-core<0.12.0,>=0.11.0->llama-index-postprocessor-flag-embedding-reranker) (4.4.0)\n",
      "Requirement already satisfied: httpcore==1.* in c:\\users\\nisha\\desktop\\rag_assign\\rag_assign\\myenv\\lib\\site-packages (from httpx->llama-index-core<0.12.0,>=0.11.0->llama-index-postprocessor-flag-embedding-reranker) (1.0.5)\n",
      "Requirement already satisfied: sniffio in c:\\users\\nisha\\desktop\\rag_assign\\rag_assign\\myenv\\lib\\site-packages (from httpx->llama-index-core<0.12.0,>=0.11.0->llama-index-postprocessor-flag-embedding-reranker) (1.3.1)\n",
      "Requirement already satisfied: h11<0.15,>=0.13 in c:\\users\\nisha\\desktop\\rag_assign\\rag_assign\\myenv\\lib\\site-packages (from httpcore==1.*->httpx->llama-index-core<0.12.0,>=0.11.0->llama-index-postprocessor-flag-embedding-reranker) (0.14.0)\n",
      "Requirement already satisfied: MarkupSafe>=2.0 in c:\\users\\nisha\\desktop\\rag_assign\\rag_assign\\myenv\\lib\\site-packages (from jinja2->torch>=1.6.0->FlagEmbedding==1.2.11) (2.1.5)\n",
      "Requirement already satisfied: python-dateutil>=2.8.2 in c:\\users\\nisha\\desktop\\rag_assign\\rag_assign\\myenv\\lib\\site-packages (from pandas->datasets->FlagEmbedding==1.2.11) (2.9.0.post0)\n",
      "Requirement already satisfied: pytz>=2020.1 in c:\\users\\nisha\\desktop\\rag_assign\\rag_assign\\myenv\\lib\\site-packages (from pandas->datasets->FlagEmbedding==1.2.11) (2024.2)\n",
      "Requirement already satisfied: tzdata>=2022.7 in c:\\users\\nisha\\desktop\\rag_assign\\rag_assign\\myenv\\lib\\site-packages (from pandas->datasets->FlagEmbedding==1.2.11) (2024.1)\n",
      "Requirement already satisfied: threadpoolctl>=3.1.0 in c:\\users\\nisha\\desktop\\rag_assign\\rag_assign\\myenv\\lib\\site-packages (from scikit-learn->sentence-transformers->FlagEmbedding==1.2.11) (3.5.0)\n",
      "Requirement already satisfied: mpmath<1.4,>=1.1.0 in c:\\users\\nisha\\desktop\\rag_assign\\rag_assign\\myenv\\lib\\site-packages (from sympy->torch>=1.6.0->FlagEmbedding==1.2.11) (1.3.0)\n",
      "Requirement already satisfied: six>=1.5 in c:\\users\\nisha\\desktop\\rag_assign\\rag_assign\\myenv\\lib\\site-packages (from python-dateutil>=2.8.2->pandas->datasets->FlagEmbedding==1.2.11) (1.16.0)\n",
      "Requirement already satisfied: exceptiongroup>=1.0.2 in c:\\users\\nisha\\desktop\\rag_assign\\rag_assign\\myenv\\lib\\site-packages (from anyio->httpx->llama-index-core<0.12.0,>=0.11.0->llama-index-postprocessor-flag-embedding-reranker) (1.2.2)\n",
      "Note: you may need to restart the kernel to use updated packages.\n"
     ]
    },
    {
     "name": "stderr",
     "output_type": "stream",
     "text": [
      "  Running command git clone --filter=blob:none --quiet https://github.com/FlagOpen/FlagEmbedding.git 'C:\\Users\\nisha\\AppData\\Local\\Temp\\pip-req-build-or150le_'\n"
     ]
    }
   ],
   "source": [
    "%pip install llama-index-postprocessor-flag-embedding-reranker git+https://github.com/FlagOpen/FlagEmbedding.git"
   ]
  },
  {
   "cell_type": "code",
   "execution_count": 61,
   "metadata": {},
   "outputs": [],
   "source": [
    "from llama_index.postprocessor.flag_embedding_reranker import FlagEmbeddingReranker\n"
   ]
  },
  {
   "cell_type": "code",
   "execution_count": 89,
   "metadata": {},
   "outputs": [],
   "source": [
    "reranker = FlagEmbeddingReranker(\n",
    "    top_n=3,\n",
    "    model=\"BAAI/bge-reranker-large\",\n",
    ")"
   ]
  },
  {
   "cell_type": "code",
   "execution_count": 90,
   "metadata": {},
   "outputs": [],
   "source": [
    "markdown_element_query_engine = index_markdown_element.as_query_engine(\n",
    "    similarity_top_k=5,\n",
    "    node_postprocessors=[reranker],\n",
    "    verbose=True\n",
    ")"
   ]
  },
  {
   "cell_type": "code",
   "execution_count": 91,
   "metadata": {},
   "outputs": [
    {
     "name": "stdout",
     "output_type": "stream",
     "text": [
      "\u001b[1;3;38;2;11;159;203mRetrieval entering 8ea8291c-cc0c-4de4-a8a9-be49d3a6b694: TextNode\n",
      "\u001b[0m\u001b[1;3;38;2;237;90;200mRetrieving from object TextNode with query What is the speed of sound in aluminium?\n",
      "\u001b[0mThe speed of sound in aluminium is 6420 m/s.\n"
     ]
    }
   ],
   "source": [
    "eq = \"What is the speed of sound in aluminium?\"\n",
    "\n",
    "response_element1 = markdown_element_query_engine.query(eq)\n",
    "print(response_element1)"
   ]
  },
  {
   "cell_type": "code",
   "execution_count": 92,
   "metadata": {},
   "outputs": [
    {
     "name": "stdout",
     "output_type": "stream",
     "text": [
      "Let's assume the length of the aluminium rod is L. The speed of sound in air is given as 344 m/s. The speed of sound in a medium is a property of that medium, so we can't find the speed of sound in aluminium from the given context. However, we know that the speed of sound in a medium is a constant. Let's call the speed of sound in aluminium 'v_al'. \n",
      "\n",
      "The time taken by the sound wave in air to reach the second child is L / 344. The time taken by the sound wave in aluminium to reach the second child is L / v_al. \n",
      "\n",
      "The ratio of times taken by the sound wave in air and in aluminium to reach the second child is (L / 344) / (L / v_al) = v_al / 344.\n"
     ]
    }
   ],
   "source": [
    "eq2 = \"Two children are at opposite ends of an aluminium rod. One strikes the end of the rod with a stone. Find the ratio of times taken by the sound wave in air and in aluminium to reach the second child.\"\n",
    "response_element2 = markdown_element_query_engine.query(eq2)\n",
    "print(response_element2)"
   ]
  },
  {
   "cell_type": "code",
   "execution_count": 19,
   "metadata": {},
   "outputs": [
    {
     "data": {
      "text/plain": [
       "'SOUND\\n\\nEveryday we hear sounds from various sources like humans, birds, bells, machines, vehicles, televisions, radios etc. Sound is a form of energy which produces a sensation of hearing in our ears. There are also other forms of energy like mechanical energy, light energy, etc. We have talked about mechanical energy in the previous chapters. You have been taught about conservation of energy, which states that we can neither create nor destroy energy. We can just change it from one form to another. When you clap, a sound is produced. Can you produce sound without utilising your energy? Which form of energy did you use to produce sound? In this chapter we are going to learn how sound is produced and how it is transmitted through a medium and received by our ears.'"
      ]
     },
     "execution_count": 19,
     "metadata": {},
     "output_type": "execute_result"
    }
   ],
   "source": [
    "nodes_markdown[1].get_content()\n"
   ]
  },
  {
   "cell_type": "code",
   "execution_count": 21,
   "metadata": {},
   "outputs": [
    {
     "name": "stdout",
     "output_type": "stream",
     "text": [
      "The 1th node is \"Chapter 11\"\n",
      "----------------------------------------\n",
      "The 2th node is \"SOUND\n",
      "\n",
      "Everyday we hear sounds from various sources like humans, birds, bells, machines, vehicles, televisions, radios etc. Sound is a form of energy which produces a sensation of hearing in our ears. There are also other forms of energy like mechanical energy, light energy, etc. We have talked about mechanical energy in the previous chapters. You have been taught about conservation of energy, which states that we can neither create nor destroy energy. We can just change it from one form to another. When you clap, a sound is produced. Can you produce sound without utilising your energy? Which form of energy did you use to produce sound? In this chapter we are going to learn how sound is produced and how it is transmitted through a medium and received by our ears.\"\n",
      "----------------------------------------\n",
      "The 3th node is \"11.1 Production of Sound\"\n",
      "----------------------------------------\n",
      "The 4th node is \"Activity 11.1\n",
      "\n",
      "- Take a tuning fork and set it vibrating by striking its prong on a rubber pad. Bring it near your ear.\n",
      "- Do you hear any sound?\n",
      "- Touch one of the prongs of the vibrating tuning fork with your finger and share your experience with your friends.\n",
      "- Now, suspend a table tennis ball or a small plastic ball by a thread from a support [Take a big needle and a thread, put a knot at one end of the thread, and then with the help of the needle pass the thread through the ball]. Touch the ball gently with the prong of a vibrating tuning fork (Fig. 11.1).\n",
      "- Observe what happens and discuss with your friends.\n",
      "\n",
      "Fig. 11.1: Vibrating tuning fork just touching the suspended table tennis ball.\"\n",
      "----------------------------------------\n",
      "The 5th node is \"Activity 11.2\n",
      "\n",
      "- Fill water in a beaker or a glass up to the brim. Gently touch the water surface with one of the prongs of the vibrating tuning fork, as shown in Fig. 11.2.\n",
      "- Next dip the prongs of the vibrating tuning fork in water, as shown in Fig. 11.3.\n",
      "- Observe what happens in both the cases.\n",
      "- Discuss with your friends why this happens.\n",
      "\n",
      "Fig. 11.2: One of the prongs of the vibrating tuning fork touching the water surface.\n",
      "\n",
      "[The image shows a diagram of a glass filled with water and a vibrating tuning fork touching the water surface.]\n",
      "\n",
      "Rationalised 2023-24\"\n",
      "----------------------------------------\n",
      "The 6th node is \"Figure 11.3: Both the prongs of the vibrating tuning fork dipped in water\n",
      "\n",
      "From the above activities what do you conclude? Can you produce sound without a vibrating object?\n",
      "\n",
      "In the above activities we have produced sound by striking the tuning fork. We can also produce sound by plucking, scratching, rubbing, blowing or shaking different objects. As per the above activities what do we do to the objects? We set the objects vibrating and produce sound. Vibration means a kind of rapid to and fro motion of an object. The sound of the human voice is produced due to vibrations in the vocal cords. When a bird flaps its wings, do you hear any sound? Think how the buzzing sound accompanying a bee is produced. A stretched rubber band when plucked vibrates and produces sound. If you have never done this, then do it and observe the vibration of the stretched rubber band.\"\n",
      "----------------------------------------\n",
      "The 7th node is \"Activity 11.3\n",
      "\n",
      "- Make a list of different types of musical instruments and discuss with your friends which part of the instrument vibrates to produce sound.\"\n",
      "----------------------------------------\n",
      "The 8th node is \"11.2 Propagation of Sound\n",
      "\n",
      "Sound is produced by vibrating objects. The matter or substance through which sound is transmitted is called a medium. It can be solid, liquid or gas. Sound moves through a medium from the point of generation to the listener. When an object vibrates, it sets the particles of the medium around it vibrating. The particles do not travel all the way from the vibrating object to the ear. A particle of the medium in contact with the vibrating object is first displaced from its equilibrium position. It then exerts a force on the adjacent particle. As a result of which the adjacent particle gets displaced from its position of rest. After displacing the adjacent particle the first particle comes back to its original position. This process continues in the medium till the sound reaches your ear. The disturbance created by a source of sound in the medium travels through the medium and not the particles of the medium.\n",
      "\n",
      "A wave is a disturbance that moves through a medium when the particles of the medium set neighbouring particles into motion. They in turn produce similar motion in others. The particles of the medium do not move forward themselves, but the disturbance is carried forward. This is what happens during propagation of sound in a medium, hence sound can be visualised as a wave. Sound waves are characterised by the motion of particles in the medium and are called mechanical waves.\n",
      "\n",
      "Air is the most common medium through which sound travels. When a vibrating object moves forward, it pushes and compresses the air in front of it creating a region of high pressure. This region is called a compression (C), as shown in Fig. 11.4. This compression starts to move away from the vibrating object. When the vibrating object moves backwards, it creates a region of low pressure called rarefaction (R), as shown in Fig. 11.4. As the object moves back and forth rapidly, a series of compressions and rarefactions is created in the air. These make the sound wave that\n",
      "\n",
      "Figure 11.4: A vibrating object creating a series of compressions (C) and rarefactions (R) in the medium.\n",
      "\n",
      "128 SCIENCE\n",
      "\n",
      "Rationalised 2023-24\"\n",
      "----------------------------------------\n",
      "The 9th node is \"propagates through the medium. Compression is the region of high pressure and rarefaction is the region of low pressure. Pressure is related to the number of particles of a medium in a given volume. More density of the particles in the medium gives more pressure and vice versa. Thus, propagation of sound can be visualised as propagation of density variations or pressure variations in the medium.\n",
      "\n",
      "The regions where the coils become closer are called compressions (C) and the regions where the coils are further apart are called rarefactions (R). As we already know, sound propagates in the medium as a series of compressions and rarefactions. Now, we can compare the propagation of disturbance in a slinky with the sound propagation in the medium. These waves are called longitudinal waves. In these waves the individual particles of the medium move in a direction parallel to the direction of propagation of the disturbance. The particles do not move from one place to another but they simply oscillate back and forth about their position of rest. This is exactly how a sound wave propagates, hence sound waves are longitudinal waves.\n",
      "\n",
      "There is also another type of wave, called a transverse wave. In a transverse wave particles do not oscillate along the direction of wave propagation but oscillate up and down about their mean position as the wave travels. Thus, a transverse wave is the one in which the individual particles of the medium move about their mean positions in a direction perpendicular to the direction of wave propagation. When we drop a pebble in a pond, the waves you see on the water surface is an example of transverse wave. Light is a transverse wave but for light, the oscillations are not of the medium particles or their pressure or density— it is not a mechanical wave. You will come to know more about transverse waves in higher classes.\"\n",
      "----------------------------------------\n",
      "The 10th node is \"Question\n",
      "\n",
      "1. How does the sound produced by a vibrating object in a medium reach your ear?\n",
      "2. Explain how sound is produced by your school bell.\n",
      "3. Why are sound waves called mechanical waves?\n",
      "4. Suppose you and your friend are on the moon. Will you be able to hear any sound produced by your friend?\"\n",
      "----------------------------------------\n",
      "The 11th node is \"11.2.1 SOUND WAVES ARE LONGITUDINAL WAVES\"\n",
      "----------------------------------------\n",
      "The 12th node is \"Activity 11.4\n",
      "\n",
      "- Take a slinky. Ask your friend to hold one end. You hold the other end. Now stretch the slinky as shown in Fig. 11.5(a). Then give it a sharp push towards your friend.\n",
      "- What do you notice? If you move your hand pushing and pulling the slinky alternatively, what will you observe?\n",
      "- If you mark a dot on the slinky, you will observe that the dot on the slinky will move back and forth parallel to the direction of the propagation of the disturbance.\n",
      "\n",
      "Fig. 11.5: Longitudinal wave in a slinky.\n",
      "\n",
      "(a)\n",
      "\n",
      "(b)\"\n",
      "----------------------------------------\n",
      "The 13th node is \"11.2.2 CHARACTERISTICS OF A SOUND WAVE\n",
      "\n",
      "We can describe a sound wave by its\n",
      "- frequency\n",
      "- amplitude and\n",
      "- speed.\n",
      "\n",
      "A sound wave in graphic form is shown in Fig. 11.6(c), which represents how density and pressure change when the sound wave moves in the medium. The density as well as the pressure of the medium at a given time varies with distance, above and below the average value of density and pressure. Fig. 11.6(a) and\n",
      "\n",
      "SOUND 129\n",
      "\n",
      "Rationalised 2023-24\"\n",
      "----------------------------------------\n",
      "The 14th node is \"Fig. 11.6(b) represent the density and pressure variations, respectively, as a sound wave propagates in the medium.\n",
      "\n",
      "Compressions are the regions where particles are crowded together and represented by the upper portion of the curve in Fig. 11.6(c). The peak represents the region of maximum compression. Thus, compressions are regions where density as well as pressure is high. Rarefactions are the regions of low pressure where particles are spread apart and are represented by the valley, that is, the lower portion of the curve in Fig. 11.6(c). A peak is called the crest and a valley is called the trough of a wave.\n",
      "\n",
      "The distance between two consecutive compressions (C) or two consecutive rarefactions (R) is called the wavelength, as shown in Fig. 11.6(c). The wavelength is usually represented by λ (Greek letter lambda). Its SI unit is metre (m).\n",
      "\n",
      "| Heinrich Rudolph Hertz |\n",
      "|-------------------------|\n",
      "| was born on 22 February 1857 in Hamburg, Germany and educated at the University of Berlin. He confirmed J.C. Maxwell's electromagnetic theory by his experiments. He laid the foundation for future development of radio, telephone, telegraph and even television. He also discovered the photoelectric effect which was later explained by Albert Einstein. The SI unit of frequency was named as hertz in his honour. |\n",
      "\n",
      "Frequency tells us how frequently an event occurs. Suppose you are beating a drum. How many times you are beating the drum in unit time is called the frequency of your beating the drum. We know that when sound is propagated through a medium, the\n",
      "\n",
      "Fig. 11.6: Sound propagates as density or pressure variations as shown in (a) and (b), (c) represents graphically the density and pressure variations.\n",
      "\n",
      "| Density variations |\n",
      "|--------------------|\n",
      "| [Diagram showing density variations in sound wave propagation] |\n",
      "\n",
      "| Pressure variations |\n",
      "|---------------------|\n",
      "| [Diagram showing pressure variations in sound wave propagation] |\n",
      "\n",
      "| Density or Pressure vs Distance |\n",
      "|----------------------------------|\n",
      "| [Graph showing density or pressure variations over distance, with crest, trough, and wavelength (λ) marked] |\n",
      "\n",
      "130\n",
      "\n",
      "SCIENCE\n",
      "\n",
      "Rationalised 2023-24\"\n",
      "----------------------------------------\n",
      "The 15th node is \"density of the medium oscillates between a maximum value and a minimum value. The change in density from the maximum value to the minimum value, then again to the maximum value, makes one complete oscillation. The number of such oscillations per unit time is the frequency of the sound wave. If we can count the number of the compressions or rarefactions that cross us per unit time, we will get the frequency of the sound wave. It is usually represented by ν (Greek letter, nu). Its SI unit is hertz (symbol, Hz).\n",
      "\n",
      "The time taken by two consecutive compressions or rarefactions to cross a fixed point is called the time period of the wave. In other words, we can say that the time taken for one complete oscillation is called the time period of the sound wave. It is represented by the symbol T. Its SI unit is second (s). Frequency and time period are related as follows:\n",
      "\n",
      "$$ v = \\frac{1}{T} $$\n",
      "\n",
      "A violin and a flute may both be played at the same time in an orchestra. Both sounds travel through the same medium, that is, air and arrive at our ear at the same time. Both sounds travel at the same speed irrespective of the source. But the sounds we receive are different. This is due to the different characteristics associated with the sound.\n",
      "\n",
      "Pitch is one of the characteristics. How the brain interprets the frequency of an emitted sound is called its pitch. The faster the vibration of the source, the higher is the frequency and the higher is the pitch, as shown in Fig. 11.7. Thus, a high pitch sound corresponds to more number of compressions and rarefactions passing a fixed point per unit time.\n",
      "\n",
      "Objects of different sizes and conditions vibrate at different frequencies to produce sounds of different pitch.\n",
      "\n",
      "The magnitude of the maximum disturbance in the medium on either side of the mean value is called the amplitude of the wave. It is usually represented by the letter A, as shown in Fig. 11.6(c). For sound its unit will be that of density or pressure.\n",
      "\n",
      "The loudness or softness of a sound is determined basically by its amplitude. The amplitude of the sound wave depends upon the force with which an object is made to vibrate. If we strike a table lightly, we hear a soft sound because we produce a sound wave\n",
      "\n",
      "| Wave shape for a low pitched sound |\n",
      "|-----------------------------------|\n",
      "| [A sine wave with longer wavelength and lower frequency] |\n",
      "\n",
      "| Wave shape for a high pitched sound |\n",
      "|------------------------------------|\n",
      "| [A sine wave with shorter wavelength and higher frequency] |\n",
      "\n",
      "Fig. 11.7: Low pitch sound has low frequency and high pitch of sound has high frequency.\n",
      "\n",
      "| Soft sound |\n",
      "|------------|\n",
      "| [A sine wave with smaller amplitude] |\n",
      "\n",
      "| Louder sound |\n",
      "|---------------|\n",
      "| [A sine wave with larger amplitude] |\n",
      "\n",
      "Fig. 11.8: Soft sound has small amplitude and louder sound has large amplitude.\n",
      "\n",
      "SOUND 131\n",
      "\n",
      "Rationalised 2023-24\"\n",
      "----------------------------------------\n",
      "The 16th node is \"of less energy (amplitude). If we hit the table hard we hear a louder sound. Can you tell why? A sound wave spreads out from its source. As it moves away from the source its amplitude as well as its loudness decreases. Louder sound can travel a larger distance as it is associated with higher energy. Fig. 11.8 shows the wave shapes of a loud and a soft sound of the same frequency.\n",
      "\n",
      "The quality or timber of sound is that characteristic which enables us to distinguish one sound from another having the same pitch and loudness. The sound which is more pleasant is said to be of a rich quality. A sound of single frequency is called a tone. The sound which is produced due to a mixture of several frequencies is called a note and is pleasant to listen to. Noise is unpleasant to the ear! Music is pleasant to hear and is of rich quality.\"\n",
      "----------------------------------------\n",
      "The 17th node is \"Example 11.1 A sound wave has a frequency of 2 kHz and wave length 35 cm. How long will it take to travel 1.5 km?\n",
      "\n",
      "Solution:\n",
      "Given,\n",
      "Frequency, ν = 2 kHz = 2000 Hz\n",
      "Wavelength, λ = 35 cm = 0.35 m\n",
      "We know that speed, v of the wave\n",
      "   = wavelength × frequency\n",
      "v = λ ν\n",
      "   = 0.35 m × 2000 Hz = 700 m/s\n",
      "The time taken by the wave to travel a distance, d of 1.5 km is\n",
      "\n",
      "t = d/v = (1.5 × 1000 m) / (700 m s⁻¹) = 15/7 s = 2.1 s.\n",
      "\n",
      "Thus sound will take 2.1 s to travel a distance of 1.5 km.\"\n",
      "----------------------------------------\n",
      "The 18th node is \"Questions\n",
      "\n",
      "1. Which wave property determines\n",
      "   (a) loudness, (b) pitch?\n",
      "2. Guess which sound has a higher\n",
      "   pitch: guitar or car horn?\"\n",
      "----------------------------------------\n",
      "The 19th node is \"Questions\n",
      "\n",
      "1. What are wavelength, frequency,\n",
      "   time period and amplitude of a\n",
      "   sound wave?\n",
      "2. How are the wavelength and\n",
      "   frequency of a sound wave\n",
      "   related to its speed?\n",
      "3. Calculate the wavelength of a\n",
      "   sound wave whose frequency is\n",
      "   220 Hz and speed is 440 m/s in\n",
      "   a given medium.\n",
      "4. A person is listening to a tone of\n",
      "   500 Hz sitting at a distance of\n",
      "   450 m from the source of the\n",
      "   sound. What is the time interval\n",
      "   between successive compressions\n",
      "   from the source?\n",
      "\n",
      "The speed of sound is defined as the distance which a point on a wave, such as a compression or a rarefaction, travels per unit time.\n",
      "We know,\n",
      "   speed, v = distance / time\n",
      "            = λ / T\n",
      "\n",
      "Here λ is the wavelength of the sound wave. It is the distance travelled by the sound wave in one time period (T) of the wave. Thus,\n",
      "\n",
      "v = λ ν (∵ 1/T = ν)\n",
      "\n",
      "or      v = λ ν\n",
      "That is, speed = wavelength × frequency.\n",
      "The speed of sound remains almost the same for all frequencies in a given medium under the same physical conditions.\n",
      "\n",
      "The amount of sound energy passing each second through unit area is called the intensity of sound. We sometimes use the terms \"loudness\" and \"intensity\" interchangeably, but they are not the same. Loudness is a measure of the response of the ear to the sound. Even when two sounds are of equal intensity, we may hear one as louder than the other simply because our ear detects it better.\n",
      "\n",
      "132                                                                                                    SCIENCE\n",
      "\n",
      "Rationalised 2023-24\"\n",
      "----------------------------------------\n",
      "The 20th node is \"Question\n",
      "1. Distinguish between loudness and intensity of sound.\"\n",
      "----------------------------------------\n",
      "The 21th node is \"11.2.3 SPEED OF SOUND IN DIFFERENT MEDIA\n",
      "\n",
      "Sound propagates through a medium at a finite speed. The sound of a thunder is heard a little later than the flash of light is seen. So, we can make out that sound travels with a speed which is much less than the speed of light. The speed of sound depends on the properties of the medium through which it travels. You will learn about this dependence in higher classes. The speed of sound in a medium depends on temperature of the medium. The speed of sound decreases when we go from solid to gaseous state. In any medium as we increase the temperature, the speed of sound increases. For example, the speed of sound in air is 331 m s⁻¹ at 0°C and 344 m s⁻¹ at 22 °C. The speeds of sound at a particular temperature in various media are listed in Table 11.1. You need not memorise the values.\"\n",
      "----------------------------------------\n",
      "The 22th node is \"Table 11.1: Speed of sound in different media at 25 °C\n",
      "\n",
      "| State   | Substance       | Speed in m/s |\n",
      "|---------|-----------------|--------------|\n",
      "| Solids  | Aluminium       | 6420         |\n",
      "|         | Nickel          | 6040         |\n",
      "|         | Steel           | 5960         |\n",
      "|         | Iron            | 5950         |\n",
      "|         | Brass           | 4700         |\n",
      "|         | Glass (Flint)   | 3980         |\n",
      "| Liquids | Water (Sea)     | 1531         |\n",
      "|         | Water (distilled)| 1498         |\n",
      "|         | Ethanol         | 1207         |\n",
      "|         | Methanol        | 1103         |\n",
      "| Gases   | Hydrogen        | 1284         |\n",
      "|         | Helium          | 965          |\n",
      "|         | Air             | 346          |\n",
      "|         | Oxygen          | 316          |\n",
      "|         | Sulphur dioxide | 213          |\"\n",
      "----------------------------------------\n",
      "The 23th node is \"Question\n",
      "1. In which of the three media, air, water or iron, does sound travel the fastest at a particular temperature?\"\n",
      "----------------------------------------\n",
      "The 24th node is \"11.3 Reflection of Sound\n",
      "\n",
      "Sound bounces off a solid or a liquid like a rubber ball bounces off a wall. Like light, sound gets reflected at the surface of a solid or liquid and follows the same laws of reflection as you have studied in earlier classes. The directions in which the sound is incident and is reflected make equal angles with the normal to the reflecting surface at the point of incidence, and the three are in the same plane. An obstacle of large size which may be polished or rough is needed for the reflection of sound waves.\"\n",
      "----------------------------------------\n",
      "The 25th node is \"Activity 11.5\n",
      "\n",
      "- Take two identical pipes, as shown in Fig. 11.9. You can make the pipes using chart paper. The length of the pipes should be sufficiently long as shown.\n",
      "- Arrange them on a table near a wall.\n",
      "- Keep a clock near the open end of one of the pipes and try to hear the sound of the clock through the other pipe.\n",
      "- Adjust the position of the pipes so that you can best hear the sound of the clock.\n",
      "- Now, measure the angles of incidence and reflection and see the relationship between the angles.\n",
      "- Lift the pipe on the right vertically to a small height and observe what happens.\n",
      "(In place of a clock, a mobile phone on vibrating mode may also be used.)\n",
      "\n",
      "Fig. 11.9: Reflection of sound\n",
      "\n",
      "SOUND 133\"\n",
      "----------------------------------------\n",
      "The 26th node is \"11.3.1 ECHO\n",
      "\n",
      "If we shout or clap near a suitable reflecting object such as a tall building or a mountain,we will hear the same sound again a little later. This sound which we hear is called an echo. The sensation of sound persists in our brain for about 0.1 s. To hear a distinct echo the time interval between the original sound and the reflected one must be at least 0.1s. If we take the speed of sound to be 344 m/s at a given temperature, say at 22 °C in air, the sound must go to the obstacle and reach back the ear of the listener on reflection after 0.1s. Hence, the total distance covered by the sound from the point of generation to the reflecting surface and back should be at least (344 m/s) × 0.1 s = 34.4 m. Thus, for hearing distinct echoes, the minimum distance of the obstacle from the source of sound must be half of this distance, that is, 17.2 m. This distance will change with the temperature of air. Echoes may be heard more than once due to successive or multiple reflections. The rolling of thunder is due to the successive reflections of the sound from a number of reflecting surfaces, such as the clouds and the land.\"\n",
      "----------------------------------------\n",
      "The 27th node is \"11.3.2 REVERBERATION\n",
      "\n",
      "A sound created in a big hall will persist by repeated reflection from the walls until it is reduced to a value where it is no longer audible. The repeated reflection that results in this persistence of sound is called reverberation. In an auditorium or big hall excessive reverberation is highly undesirable. To reduce reverberation, the roof and walls of the auditorium are generally covered with sound-absorbent materials like compressed fibreboard, rough plaster or draperies. The seat materials are also selected on the basis of their sound absorbing properties.\n",
      "\n",
      "**Example 11.2** A person clapped his hands near a cliff and heard the echo after 2 s. What is the distance of the cliff from the person if the speed of the sound, v is taken as 346 m s⁻¹?\n",
      "\n",
      "**Solution:**\n",
      "\n",
      "Given,\n",
      "Speed of sound, v = 346 m s⁻¹\n",
      "Time taken for hearing the echo,\n",
      "t = 2 s\n",
      "Distance travelled by the sound\n",
      "= v × t = 346 m s⁻¹ × 2 s = 692 m\n",
      "In 2 s sound has to travel twice the distance between the cliff and the person. Hence, the distance between the cliff and the person\n",
      "= 692 m/2 = 346 m.\"\n",
      "----------------------------------------\n",
      "The 28th node is \"Question\n",
      "\n",
      "1. An echo is heard in 3 s. What is the distance of the reflecting surface from the source, given that the speed of sound is 342 m s⁻¹?\"\n",
      "----------------------------------------\n",
      "The 29th node is \"11.3.3 USES OF MULTIPLE REFLECTION OF SOUND\n",
      "\n",
      "1. Megaphones or loudhailers, horns, musical instruments such as trumpets and shehanais, are all designed to send sound in a particular direction without spreading it in all directions, as shown in Fig 11.10.\n",
      "\n",
      "Fig 11.10: A megaphone and a horn.\n",
      "\n",
      "Megaphone\n",
      "\n",
      "Horn\"\n",
      "----------------------------------------\n",
      "The 30th node is \"In these instruments, a tube followed by a conical opening reflects sound successively to guide most of the sound waves from the source in the forward direction towards the audience.\n",
      "\n",
      "2. Stethoscope is a medical instrument used for listening to sounds produced within the body, mainly in the heart or lungs. In stethoscopes the sound of the patient's heartbeat reaches the doctor's ears by multiple reflection of sound, as shown in Fig.11.11.\n",
      "\n",
      "Fig. 11.13: Sound board used in a big hall.\n",
      "\n",
      "| Sound board |\n",
      "|-------------|\n",
      "| A diagram showing sound waves reflecting off a curved sound board and spreading out towards an audience. The sound source is shown at the focal point of the curved board, with arrows indicating the direction of sound propagation. |\n",
      "\n",
      "Fig.11.11: Stethoscope\n",
      "\n",
      "Question\n",
      "1. Why are the ceilings of concert halls curved?\"\n",
      "----------------------------------------\n",
      "The 31th node is \"11.4 Range of Hearing\n",
      "\n",
      "The audible range of sound for human beings extends from about 20 Hz to 20000 Hz (one Hz = one cycle/s). Children under the age of five and some animals, such as dogs can hear up to 25 kHz (1 kHz = 1000 Hz). As people grow older their ears become less sensitive to higher frequencies. Sounds of frequencies below 20 Hz are called infrasonic sound or infrasound. If we could hear infrasound we would hear the vibrations of a pendulum just as we hear the vibrations of the wings of a bee. Rhinoceroses communicate using infrasound of frequency as low as 5 Hz. Whales and elephants produce sound in the infrasound range. It is observed that some animals get disturbed before earthquakes. Earthquakes produce low-frequency infrasound before the main shock waves begin which possibly alert the animals. Frequencies higher than 20 kHz are called ultrasonic sound or ultrasound. Ultrasound is produced by animals such as dolphins, bats and porpoises. Moths of certain families have very sensitive hearing equipment. These moths can hear the high frequency\n",
      "\n",
      "3. Generally the ceilings of concert halls, conference halls and cinema halls are curved so that sound after reflection reaches all corners of the hall, as shown in Fig 11.12. Sometimes a curved soundboard may be placed behind the stage so that the sound, after reflecting from the sound board, spreads evenly across the width of the hall (Fig 11.13).\n",
      "\n",
      "Fig. 11.12: Curved ceiling of a conference hall.\n",
      "\n",
      "| Curved ceiling of a conference hall |\n",
      "|-------------------------------------|\n",
      "| A diagram showing sound waves reflecting off a curved ceiling in a conference hall. The waves are represented by dashed lines emanating from a source at the front of the hall and reflecting off the curved ceiling to reach all areas of the audience. |\n",
      "\n",
      "SOUND 135\n",
      "\n",
      "Rationalised 2023-24\"\n",
      "----------------------------------------\n",
      "The 32th node is \"squeaks of the bat and know when a bat is flying nearby, and are able to escape capture. Rats also play games by producing ultrasound.\n",
      "\n",
      "in construction of big structures like buildings, bridges, machines and also scientific equipment. The cracks or holes inside the metal blocks, which are invisible from outside reduces the strength of the structure. Ultrasonic waves are allowed to pass through the metal block and detectors are used to detect the transmitted waves. If there is even a small defect, the ultrasound gets reflected back indicating the presence of the flaw or defect, as shown in Fig. 11.14.\n",
      "\n",
      "> Hearing Aid: People with hearing loss may need a hearing aid. A hearing aid is an electronic, battery operated device. The hearing aid receives sound through a microphone. The microphone converts the sound waves to electrical signals. These electrical signals are amplified by an amplifier. The amplified electrical signals are given to a speaker of the hearing aid. The speaker converts the amplified electrical signal to sound and sends to the ear for clear hearing.\"\n",
      "----------------------------------------\n",
      "The 33th node is \"Questions\n",
      "\n",
      "1. What is the audible range of the average human ear?\n",
      "2. What is the range of frequencies associated with\n",
      "   (a) Infrasound?\n",
      "   (b) Ultrasound?\n",
      "\n",
      "Fig 11.14: Ultrasound is reflected back from the defective locations inside a metal block.\n",
      "\n",
      "Ordinary sound of longer wavelengths cannot be used for such purpose as it will bend around the corners of the defective location and enter the detector.\"\n",
      "----------------------------------------\n",
      "The 34th node is \"11.5 Applications of Ultrasound\n",
      "\n",
      "Ultrasounds are high frequency waves. Ultrasounds are able to travel along well-defined paths even in the presence of obstacles. Ultrasounds are used extensively in industries and for medical purposes.\n",
      "\n",
      "- Ultrasound is generally used to clean parts located in hard-to-reach places, for example, spiral tube, odd shaped parts, electronic components, etc. Objects to be cleaned are placed in a cleaning solution and ultrasonic waves are sent into the solution. Due to the high frequency, the particles of dust, grease and dirt get detached and drop out. The objects thus get thoroughly cleaned.\n",
      "- Ultrasounds can be used to detect cracks and flaws in metal blocks.\n",
      "- Ultrasonic waves are made to reflect from various parts of the heart and form the image of the heart. This technique is called 'echocardiography'.\n",
      "- Ultrasound scanner is an instrument which uses ultrasonic waves for getting images of internal organs of the human body. A doctor may image the patient's organs, such as the liver, gall bladder, uterus, kidney, etc. It helps the doctor to detect abnormalities, such as stones in the gall bladder and kidney or tumours in different organs. In this technique the ultrasonic waves travel through the tissues of the body and get reflected from a region where there is a change of tissue density.\n",
      "\n",
      "136 SCIENCE\n",
      "\n",
      "Metallic components are generally used\"\n",
      "----------------------------------------\n",
      "The 35th node is \"squeaks of the bat and know when a bat is flying nearby, and are able to escape capture. Rats also play games by producing ultrasound.\n",
      "\n",
      "in construction of big structures like buildings, bridges, machines and also scientific equipment. The cracks or holes inside the metal blocks, which are invisible from outside reduces the strength of the structure. Ultrasonic waves are allowed to pass through the metal block and detectors are used to detect the transmitted waves. If there is even a small defect, the ultrasound gets reflected back indicating the presence of the flaw or defect, as shown in Fig. 11.14.\n",
      "\n",
      "> Hearing Aid: People with hearing loss may need a hearing aid. A hearing aid is an electronic, battery operated device. The hearing aid receives sound through a microphone. The microphone converts the sound waves to electrical signals. These electrical signals are amplified by an amplifier. The amplified electrical signals are given to a speaker of the hearing aid. The speaker converts the amplified electrical signal to sound and sends to the ear for clear hearing.\"\n",
      "----------------------------------------\n",
      "The 36th node is \"Questions\n",
      "\n",
      "1. What is the audible range of the average human ear?\n",
      "2. What is the range of frequencies associated with\n",
      "   (a) Infrasound?\n",
      "   (b) Ultrasound?\n",
      "\n",
      "Fig 11.14: Ultrasound is reflected back from the defective locations inside a metal block.\n",
      "\n",
      "Ordinary sound of longer wavelengths cannot be used for such purpose as it will bend around the corners of the defective location and enter the detector.\"\n",
      "----------------------------------------\n",
      "The 37th node is \"11.5 Applications of Ultrasound\n",
      "\n",
      "Ultrasounds are high frequency waves. Ultrasounds are able to travel along well-defined paths even in the presence of obstacles. Ultrasounds are used extensively in industries and for medical purposes.\n",
      "\n",
      "- Ultrasound is generally used to clean parts located in hard-to-reach places, for example, spiral tube, odd shaped parts, electronic components, etc. Objects to be cleaned are placed in a cleaning solution and ultrasonic waves are sent into the solution. Due to the high frequency, the particles of dust, grease and dirt get detached and drop out. The objects thus get thoroughly cleaned.\n",
      "- Ultrasounds can be used to detect cracks and flaws in metal blocks.\n",
      "- Ultrasonic waves are made to reflect from various parts of the heart and form the image of the heart. This technique is called 'echocardiography'.\n",
      "- Ultrasound scanner is an instrument which uses ultrasonic waves for getting images of internal organs of the human body. A doctor may image the patient's organs, such as the liver, gall bladder, uterus, kidney, etc. It helps the doctor to detect abnormalities, such as stones in the gall bladder and kidney or tumours in different organs. In this technique the ultrasonic waves travel through the tissues of the body and get reflected from a region where there is a change of tissue density.\n",
      "\n",
      "136 SCIENCE\n",
      "\n",
      "Metallic components are generally used\"\n",
      "----------------------------------------\n",
      "The 38th node is \"These waves are then converted into electrical signals that are used to generate images of the organ. These images are then displayed on a monitor or printed on a film. This technique is called 'ultrasonography'. Ultrasonography is also used for examination of the foetus during pregnancy to detect congenial defects and growth abnormalities.\n",
      "\n",
      "• Ultrasound may be employed to break small 'stones' formed in the kidneys into fine grains. These grains later get flushed out with urine.\"\n",
      "----------------------------------------\n",
      "The 39th node is \"What you have learnt\n",
      "\n",
      "• Sound is produced due to vibration of different objects.\n",
      "• Sound travels as a longitudinal wave through a material medium.\n",
      "• Sound travels as successive compressions and rarefactions in the medium.\n",
      "• In sound propagation, it is the energy of the sound that travels and not the particles of the medium.\n",
      "• The change in density from one maximum value to the minimum value and again to the maximum value makes one complete oscillation.\n",
      "• The distance between two consecutive compressions or two consecutive rarefactions is called the wavelength, λ.\n",
      "• The time taken by the wave for one complete oscillation of the density or pressure of the medium is called the time period, T.\n",
      "• The number of complete oscillations per unit time is called the frequency (ν), $$v=\\frac{1}{T}$$.\n",
      "• The speed v, frequency ν, and wavelength λ, of sound are related by the equation, v = λν.\n",
      "• The speed of sound depends primarily on the nature and the temperature of the transmitting medium.\n",
      "• The law of reflection of sound states that the directions in which the sound is incident and reflected make equal angles with the normal to the reflecting surface at the point of incidence and the three lie in the same plane.\n",
      "• For hearing a distinct sound, the time interval between the original sound and the reflected one must be at least 0.1 s.\n",
      "• The persistence of sound in an auditorium is the result of repeated reflections of sound and is called reverberation.\n",
      "\n",
      "SOUND 137\n",
      "\n",
      "Rationalised 2023-24\"\n",
      "----------------------------------------\n",
      "The 40th node is \"• Sound properties such as pitch, loudness and quality are determined by the corresponding wave properties.\n",
      "\n",
      "• Loudness is a physiological response of the ear to the intensity of sound.\n",
      "\n",
      "• The amount of sound energy passing each second through unit area is called the intensity of sound.\n",
      "\n",
      "• The audible range of hearing for average human beings is in the frequency range of 20 Hz – 20 kHz.\n",
      "\n",
      "• Sound waves with frequencies below the audible range are termed \"infrasonic\" and those above the audible range are termed \"ultrasonic\".\n",
      "\n",
      "• Ultrasound has many medical and industrial applications.\"\n",
      "----------------------------------------\n",
      "The 41th node is \"Exercises\n",
      "\n",
      "1. What is sound and how is it produced?\n",
      "\n",
      "2. Describe with the help of a diagram, how compressions and rarefactions are produced in air near a source of sound.\n",
      "\n",
      "3. Why is sound wave called a longitudinal wave?\n",
      "\n",
      "4. Which characteristic of the sound helps you to identify your friend by his voice while sitting with others in a dark room?\n",
      "\n",
      "5. Flash and thunder are produced simultaneously. But thunder is heard a few seconds after the flash is seen, why?\n",
      "\n",
      "6. A person has a hearing range from 20 Hz to 20 kHz. What are the typical wavelengths of sound waves in air corresponding to these two frequencies? Take the speed of sound in air as 344 m s⁻¹.\n",
      "\n",
      "7. Two children are at opposite ends of an aluminium rod. One strikes the end of the rod with a stone. Find the ratio of times taken by the sound wave in air and in aluminium to reach the second child.\n",
      "\n",
      "8. The frequency of a source of sound is 100 Hz. How many times does it vibrate in a minute?\n",
      "\n",
      "9. Does sound follow the same laws of reflection as light does? Explain.\n",
      "\n",
      "10. When a sound is reflected from a distant object, an echo is produced. Let the distance between the reflecting surface and the source of sound production remains the same. Do you hear echo sound on a hotter day?\n",
      "\n",
      "11. Give two practical applications of reflection of sound waves.\n",
      "\n",
      "12. A stone is dropped from the top of a tower 500 m high into a pond of water at the base of the tower. When is the splash heard at the top? Given, g = 10 m s⁻² and speed of sound = 340 m s⁻¹.\n",
      "\n",
      "138 SCIENCE\n",
      "\n",
      "Rationalised 2023-24\"\n",
      "----------------------------------------\n",
      "The 42th node is \"13. A sound wave travels at a speed of 339 m s⁻¹. If its wavelength is 1.5 cm, what is the frequency of the wave? Will it be audible?\n",
      "\n",
      "14. What is reverberation? How can it be reduced?\n",
      "\n",
      "15. What is loudness of sound? What factors does it depend on?\n",
      "\n",
      "16. How is ultrasound used for cleaning?\n",
      "\n",
      "17. Explain how defects in a metal block can be detected using ultrasound.\n",
      "\n",
      "SOUND                                                                       139\n",
      "\n",
      "Rationalised 2023-24\"\n",
      "----------------------------------------\n"
     ]
    }
   ],
   "source": [
    "for i in range(len(nodes_markdown)):\n",
    "    content = nodes_markdown[i].get_content()\n",
    "    print(f\"The {i+1}th node is \\\"{content}\\\"\")\n",
    "    print(\"-\" * 40)\n"
   ]
  },
  {
   "cell_type": "code",
   "execution_count": null,
   "metadata": {},
   "outputs": [],
   "source": []
  },
  {
   "cell_type": "code",
   "execution_count": 17,
   "metadata": {},
   "outputs": [
    {
     "data": {
      "text/plain": [
       "42"
      ]
     },
     "execution_count": 17,
     "metadata": {},
     "output_type": "execute_result"
    }
   ],
   "source": [
    "len(nodes_markdown)"
   ]
  },
  {
   "cell_type": "code",
   "execution_count": 23,
   "metadata": {},
   "outputs": [
    {
     "name": "stderr",
     "output_type": "stream",
     "text": [
      "c:\\Users\\nisha\\Desktop\\RAG_Assign\\RAG_Assign\\myenv\\lib\\site-packages\\tqdm\\auto.py:21: TqdmWarning: IProgress not found. Please update jupyter and ipywidgets. See https://ipywidgets.readthedocs.io/en/stable/user_install.html\n",
      "  from .autonotebook import tqdm as notebook_tqdm\n"
     ]
    }
   ],
   "source": [
    "from llama_index.embeddings.huggingface import HuggingFaceEmbedding\n",
    "embed_model = HuggingFaceEmbedding(model_name=\"BAAI/bge-small-en-v1.5\")\n"
   ]
  },
  {
   "cell_type": "code",
   "execution_count": 26,
   "metadata": {},
   "outputs": [],
   "source": [
    "from llama_index.core import VectorStoreIndex, SimpleDirectoryReader\n",
    "from llama_index.core import StorageContext\n",
    "from llama_index.embeddings.huggingface import HuggingFaceEmbedding\n",
    "from IPython.display import Markdown, display\n",
    "import chromadb"
   ]
  },
  {
   "cell_type": "code",
   "execution_count": 27,
   "metadata": {},
   "outputs": [],
   "source": [
    "from llama_index.vector_stores.chroma import ChromaVectorStore\n"
   ]
  },
  {
   "cell_type": "code",
   "execution_count": 20,
   "metadata": {},
   "outputs": [],
   "source": [
    "# create client and a new collection\n",
    "chroma_client = chromadb.EphemeralClient()\n",
    "chroma_collection = chroma_client.create_collection(\"quickstart\")\n"
   ]
  },
  {
   "cell_type": "code",
   "execution_count": 24,
   "metadata": {},
   "outputs": [],
   "source": [
    "# set up ChromaVectorStore and load in data\n",
    "vector_store = ChromaVectorStore(chroma_collection=chroma_collection)\n",
    "storage_context = StorageContext.from_defaults(vector_store=vector_store)\n",
    "index = VectorStoreIndex.from_documents(\n",
    "    documents, storage_context=storage_context, embed_model=embed_model\n",
    ")"
   ]
  },
  {
   "cell_type": "code",
   "execution_count": 25,
   "metadata": {},
   "outputs": [],
   "source": [
    "db = chromadb.PersistentClient(path=\"./chroma_db\")\n",
    "chroma_collection = db.get_or_create_collection(\"quickstart\")\n",
    "vector_store = ChromaVectorStore(chroma_collection=chroma_collection)\n",
    "storage_context = StorageContext.from_defaults(vector_store=vector_store)\n",
    "\n",
    "index = VectorStoreIndex.from_documents(\n",
    "    documents, storage_context=storage_context, embed_model=embed_model\n",
    ")\n"
   ]
  },
  {
   "cell_type": "code",
   "execution_count": 26,
   "metadata": {},
   "outputs": [],
   "source": [
    "# load from disk\n",
    "db2 = chromadb.PersistentClient(path=\"./chroma_db\")\n",
    "chroma_collection = db2.get_or_create_collection(\"quickstart\")\n",
    "vector_store = ChromaVectorStore(chroma_collection=chroma_collection)\n",
    "index = VectorStoreIndex.from_vector_store(\n",
    "    vector_store,\n",
    "    embed_model=embed_model,\n",
    ")\n"
   ]
  },
  {
   "cell_type": "code",
   "execution_count": 31,
   "metadata": {},
   "outputs": [],
   "source": [
    "def index_setup(nodes, embed_model, db_path=\"./chroma_db\"):\n",
    "    # Create or connect to the persistent ChromaDB\n",
    "    db = chromadb.PersistentClient(path=db_path)\n",
    "    chroma_collection = db.get_or_create_collection(\"quickstart\")\n",
    "\n",
    "    # Create ChromaVectorStore\n",
    "    vector_store = ChromaVectorStore(chroma_collection=chroma_collection)\n",
    "    \n",
    "    # Create storage context and index\n",
    "    storage_context = StorageContext.from_defaults(vector_store=vector_store)\n",
    "    index = VectorStoreIndex(\n",
    "        nodes, storage_context=storage_context, embed_model=embed_model\n",
    "    )\n",
    "\n",
    "    return index"
   ]
  },
  {
   "cell_type": "code",
   "execution_count": null,
   "metadata": {},
   "outputs": [],
   "source": [
    "def load_index(embed_model, db_path=\"./chroma_db\"):\n",
    "    # Load the index from persistent storage\n",
    "    db = chromadb.PersistentClient(path=db_path)\n",
    "    chroma_collection = db.get_or_create_collection(\"quickstart\")\n",
    "    vector_store = ChromaVectorStore(chroma_collection=chroma_collection)\n",
    "\n",
    "    # Create the index from the vector store\n",
    "    index = VectorStoreIndex.from_vector_store(\n",
    "        vector_store=vector_store,\n",
    "        embed_model=embed_model\n",
    "    )\n",
    "\n",
    "    return index"
   ]
  },
  {
   "cell_type": "code",
   "execution_count": 32,
   "metadata": {},
   "outputs": [],
   "source": [
    "nodes_index = index_setup(nodes,embed_model, db_path=\"./chroma_db_nodes\")\n"
   ]
  },
  {
   "cell_type": "code",
   "execution_count": 45,
   "metadata": {},
   "outputs": [
    {
     "name": "stdout",
     "output_type": "stream",
     "text": [
      "[NodeWithScore(node=TextNode(id_='a28db473-cf8f-43bf-b133-6463349a946b', embedding=None, metadata={}, excluded_embed_metadata_keys=[], excluded_llm_metadata_keys=[], relationships={<NodeRelationship.SOURCE: '1'>: RelatedNodeInfo(node_id='bd4b4bb2-802d-4396-a3eb-d940502f730f', node_type=<ObjectType.DOCUMENT: '4'>, metadata={}, hash='638890aae915b4f37b49d9edc8644d54bd7be175b28a333d8c84421a25ff2503')}, text='• Sound properties such as pitch, loudness and quality are determined by the corresponding wave properties.\\n\\n• Loudness is a physiological response of the ear to the intensity of sound.\\n\\n• The amount of sound energy passing each second through unit area is called the intensity of sound.\\n\\n• The audible range of hearing for average human beings is in the frequency range of 20 Hz – 20 kHz.\\n\\n• Sound waves with frequencies below the audible range are termed \"infrasonic\" and those above the audible range are termed \"ultrasonic\".\\n\\n• Ultrasound has many medical and industrial applications.\\n\\n## Exercises\\n\\n1. What is sound and how is it produced?\\n\\n2. Describe with the help of a diagram, how compressions and rarefactions are produced in air near a source of sound.\\n\\n3. Why is sound wave called a longitudinal wave?\\n\\n4. Which characteristic of the sound helps you to identify your friend by his voice while sitting with others in a dark room?\\n\\n5. Flash and thunder are produced simultaneously. But thunder is heard a few seconds after the flash is seen, why?\\n\\n6. A person has a hearing range from 20 Hz to 20 kHz. What are the typical wavelengths of sound waves in air corresponding to these two frequencies? Take the speed of sound in air as 344 m s⁻¹.\\n\\n7. Two children are at opposite ends of an aluminium rod. One strikes the end of the rod with a stone. Find the ratio of times taken by the sound wave in air and in aluminium to reach the second child.\\n\\n8. The frequency of a source of sound is 100 Hz. How many times does it vibrate in a minute?\\n\\n9. Does sound follow the same laws of reflection as light does? Explain.\\n\\n10. When a sound is reflected from a distant object, an echo is produced. Let the distance between the reflecting surface and the source of sound production remains the same. Do you hear echo sound on a hotter day?\\n\\n11. Give two practical applications of reflection of sound waves.\\n\\n12. A stone is dropped from the top of a tower 500 m high into a pond of water at the base of the tower. When is the splash heard at the top? Given, g = 10 m s⁻² and speed of sound = 340 m s⁻¹.\\n\\n138 SCIENCE\\n\\nRationalised 2023-24', mimetype='text/plain', start_char_idx=0, end_char_idx=2135, text_template='{metadata_str}\\n\\n{content}', metadata_template='{key}: {value}', metadata_seperator='\\n'), score=0.5664364414395378), NodeWithScore(node=TextNode(id_='a9f65ab4-177d-4a63-bc49-89f76d889620', embedding=None, metadata={}, excluded_embed_metadata_keys=[], excluded_llm_metadata_keys=[], relationships={<NodeRelationship.SOURCE: '1'>: RelatedNodeInfo(node_id='4fab578e-67ac-4ff0-841c-ebe7e71707be', node_type=<ObjectType.DOCUMENT: '4'>, metadata={}, hash='81fb5e590b2a5971e05240a0833cbb90d255ec1a2124829cbf6c4ebc9ae3e7a7')}, text='density of the medium oscillates between a maximum value and a minimum value. The change in density from the maximum value to the minimum value, then again to the maximum value, makes one complete oscillation. The number of such oscillations per unit time is the frequency of the sound wave. If we can count the number of the compressions or rarefactions that cross us per unit time, we will get the frequency of the sound wave. It is usually represented by ν (Greek letter, nu). Its SI unit is hertz (symbol, Hz).\\n\\nThe time taken by two consecutive compressions or rarefactions to cross a fixed point is called the time period of the wave. In other words, we can say that the time taken for one complete oscillation is called the time period of the sound wave. It is represented by the symbol T. Its SI unit is second (s). Frequency and time period are related as follows:\\n\\n$$ v = \\\\frac{1}{T} $$\\n\\nA violin and a flute may both be played at the same time in an orchestra. Both sounds travel through the same medium, that is, air and arrive at our ear at the same time. Both sounds travel at the same speed irrespective of the source. But the sounds we receive are different. This is due to the different characteristics associated with the sound.\\n\\nPitch is one of the characteristics. How the brain interprets the frequency of an emitted sound is called its pitch. The faster the vibration of the source, the higher is the frequency and the higher is the pitch, as shown in Fig. 11.7. Thus, a high pitch sound corresponds to more number of compressions and rarefactions passing a fixed point per unit time.\\n\\nObjects of different sizes and conditions vibrate at different frequencies to produce sounds of different pitch.\\n\\nThe magnitude of the maximum disturbance in the medium on either side of the mean value is called the amplitude of the wave. It is usually represented by the letter A, as shown in Fig. 11.6(c). For sound its unit will be that of density or pressure.\\n\\nThe loudness or softness of a sound is determined basically by its amplitude. The amplitude of the sound wave depends upon the force with which an object is made to vibrate. If we strike a table lightly, we hear a soft sound because we produce a sound wave\\n\\n| Wave shape for a low pitched sound |\\n|-----------------------------------|\\n| [A sine wave with longer wavelength and lower frequency] |\\n\\n| Wave shape for a high pitched sound |\\n|------------------------------------|\\n| [A sine wave with shorter wavelength and higher frequency] |\\n\\nFig. 11.7: Low pitch sound has low frequency and high pitch of sound has high frequency.\\n\\n| Soft sound |\\n|------------|\\n| [A sine wave with smaller amplitude] |\\n\\n| Louder sound |\\n|---------------|\\n| [A sine wave with larger amplitude] |\\n\\nFig. 11.8: Soft sound has small amplitude and louder sound has large amplitude.\\n\\nSOUND 131\\n\\nRationalised 2023-24', mimetype='text/plain', start_char_idx=0, end_char_idx=2863, text_template='{metadata_str}\\n\\n{content}', metadata_template='{key}: {value}', metadata_seperator='\\n'), score=0.5442329035132257), NodeWithScore(node=TextNode(id_='8d6c2317-d292-4924-9c93-1295bc195205', embedding=None, metadata={}, excluded_embed_metadata_keys=[], excluded_llm_metadata_keys=[], relationships={<NodeRelationship.SOURCE: '1'>: RelatedNodeInfo(node_id='3ed35758-edf9-46cd-b13f-190db3a76683', node_type=<ObjectType.DOCUMENT: '4'>, metadata={}, hash='130b575d217d44f2e794345e5a594e4230b25b5952d2b2510b38b92bdf0c2bad')}, text=\"These waves are then converted into electrical signals that are used to generate images of the organ. These images are then displayed on a monitor or printed on a film. This technique is called 'ultrasonography'. Ultrasonography is also used for examination of the foetus during pregnancy to detect congenial defects and growth abnormalities.\\n\\n• Ultrasound may be employed to break small 'stones' formed in the kidneys into fine grains. These grains later get flushed out with urine.\\n\\n## What you have learnt\\n\\n• Sound is produced due to vibration of different objects.\\n• Sound travels as a longitudinal wave through a material medium.\\n• Sound travels as successive compressions and rarefactions in the medium.\\n• In sound propagation, it is the energy of the sound that travels and not the particles of the medium.\\n• The change in density from one maximum value to the minimum value and again to the maximum value makes one complete oscillation.\\n• The distance between two consecutive compressions or two consecutive rarefactions is called the wavelength, λ.\\n• The time taken by the wave for one complete oscillation of the density or pressure of the medium is called the time period, T.\\n• The number of complete oscillations per unit time is called the frequency (ν), $$v=\\\\frac{1}{T}$$.\\n• The speed v, frequency ν, and wavelength λ, of sound are related by the equation, v = λν.\\n• The speed of sound depends primarily on the nature and the temperature of the transmitting medium.\\n• The law of reflection of sound states that the directions in which the sound is incident and reflected make equal angles with the normal to the reflecting surface at the point of incidence and the three lie in the same plane.\\n• For hearing a distinct sound, the time interval between the original sound and the reflected one must be at least 0.1 s.\\n• The persistence of sound in an auditorium is the result of repeated reflections of sound and is called reverberation.\\n\\nSOUND 137\\n\\nRationalised 2023-24\", mimetype='text/plain', start_char_idx=0, end_char_idx=1983, text_template='{metadata_str}\\n\\n{content}', metadata_template='{key}: {value}', metadata_seperator='\\n'), score=0.5411299978280767)]\n"
     ]
    }
   ],
   "source": [
    "query_engine = nodes_index.as_query_engine(llm=llm\n",
    "    ,similarity_top_k=3, verbose=True\n",
    ")\n",
    "\n",
    "question1 = \"Two children are at opposite ends of an aluminium rod. One strikes the end of the rod with a stone. Find the ratio of times taken by the sound wave in air and in aluminium to reach the second child.\"\n",
    "\n",
    "response = query_engine.query(question1)\n",
    "print(response.source_nodes)"
   ]
  },
  {
   "cell_type": "code",
   "execution_count": null,
   "metadata": {},
   "outputs": [],
   "source": [
    "# load from disk , nodes \n",
    "db2 = chromadb.PersistentClient(path=\"./chroma_db\")\n",
    "chroma_collection = db2.get_or_create_collection(\"quickstart\")\n",
    "vector_store = ChromaVectorStore(chroma_collection=chroma_collection)\n",
    "index = VectorStoreIndex.from_vector_store(\n",
    "    vector_store,\n",
    "    embed_model=embed_model,\n",
    ")"
   ]
  },
  {
   "cell_type": "code",
   "execution_count": 40,
   "metadata": {},
   "outputs": [],
   "source": [
    "from llama_index.core import Settings\n"
   ]
  },
  {
   "cell_type": "code",
   "execution_count": 41,
   "metadata": {},
   "outputs": [],
   "source": [
    "Settings.llm = llm\n",
    "Settings.embed_model = embed_model"
   ]
  },
  {
   "cell_type": "code",
   "execution_count": 29,
   "metadata": {},
   "outputs": [],
   "source": [
    "recursive_query_engine = index.as_query_engine(llm=llm\n",
    "    ,similarity_top_k=5, verbose=True\n",
    ")"
   ]
  },
  {
   "cell_type": "code",
   "execution_count": 30,
   "metadata": {},
   "outputs": [
    {
     "name": "stdout",
     "output_type": "stream",
     "text": [
      "Sound waves are called longitudinal waves because the individual particles of the medium move in a direction parallel to the direction of propagation of the disturbance, oscillating back and forth about their position of rest.\n"
     ]
    }
   ],
   "source": [
    "query = \"Why is sound wave called a longitudinal wave?\"\n",
    "response = recursive_query_engine.query(query)\n",
    "print(response)"
   ]
  },
  {
   "cell_type": "code",
   "execution_count": 32,
   "metadata": {},
   "outputs": [
    {
     "name": "stdout",
     "output_type": "stream",
     "text": [
      "• Sound properties such as pitch, loudness and quality are determined by the corresponding wave properties.\n",
      "\n",
      "• Loudness is a physiological response of the ear to the intensity of sound.\n",
      "\n",
      "• The amount of sound energy passing each second through unit area is called the intensity of sound.\n",
      "\n",
      "• The audible range of hearing for average human beings is in the frequency range of 20 Hz – 20 kHz.\n",
      "\n",
      "• Sound waves with frequencies below the audible range are termed \"infrasonic\" and those above the audible range are termed \"ultrasonic\".\n",
      "\n",
      "• Ultrasound has many medical and industrial applications.\n",
      "\n",
      "## Exercises\n",
      "\n",
      "1. What is sound and how is it produced?\n",
      "\n",
      "2. Describe with the help of a diagram, how compressions and rarefactions are produced in air near a source of sound.\n",
      "\n",
      "3. Why is sound wave called a longitudinal wave?\n",
      "\n",
      "4. Which characteristic of the sound helps you to identify your friend by his voice while sitting with others in a dark room?\n",
      "\n",
      "5. Flash and thunder are produced simultaneously. But thunder is heard a few seconds after the flash is seen, why?\n",
      "\n",
      "6. A person has a hearing range from 20 Hz to 20 kHz. What are the typical wavelengths of sound waves in air corresponding to these two frequencies? Take the speed of sound in air as 344 m s⁻¹.\n",
      "\n",
      "7. Two children are at opposite ends of an aluminium rod. One strikes the end of the rod with a stone. Find the ratio of times taken by the sound wave in air and in aluminium to reach the second child.\n",
      "\n",
      "8. The frequency of a source of sound is 100 Hz. How many times does it vibrate in a minute?\n",
      "\n",
      "9. Does sound follow the same laws of reflection as light does? Explain.\n",
      "\n",
      "10. When a sound is reflected from a distant object, an echo is produced. Let the distance between the reflecting surface and the source of sound production remains the same. Do you hear echo sound on a hotter day?\n",
      "\n",
      "11. Give two practical applications of reflection of sound waves.\n",
      "\n",
      "12. A stone is dropped from the top of a tower 500 m high into a pond of water at the base of the tower. When is the splash heard at the top? Given, g = 10 m s⁻² and speed of sound = 340 m s⁻¹.\n",
      "\n",
      "138 SCIENCE\n",
      "\n",
      "Rationalised 2023-24\n"
     ]
    }
   ],
   "source": [
    "print(documents[-2].text[::])"
   ]
  },
  {
   "cell_type": "code",
   "execution_count": 43,
   "metadata": {},
   "outputs": [
    {
     "name": "stdout",
     "output_type": "stream",
     "text": [
      "• Sound properties such as pitch, loudness and quality are determined by the corresponding wave properties.\n",
      "\n",
      "• Loudness is a physiological response of the ear to the intensity of sound.\n",
      "\n",
      "• The amount of sound energy passing each second through unit area is called the intensity of sound.\n",
      "\n",
      "• The audible range of hearing for average human beings is in the frequency range of 20 Hz – 20 kHz.\n",
      "\n",
      "• Sound waves with frequencies below the audible range are termed \"infrasonic\" and those above the audible range are termed \"ultrasonic\".\n",
      "\n",
      "• Ultrasound has many medical and industrial applications.\n",
      "\n",
      "## Exercises\n",
      "\n",
      "1. What is sound and how is it produced?\n",
      "\n",
      "2. Describe with the help of a diagram, how compressions and rarefactions are produced in air near a source of sound.\n",
      "\n",
      "3. Why is sound wave called a longitudinal wave?\n",
      "\n",
      "4. Which characteristic of the sound helps you to identify your friend by his voice while sitting with others in a dark room?\n",
      "\n",
      "5. Flash and thunder are produced simultaneously. But thunder is heard a few seconds after the flash is seen, why?\n",
      "\n",
      "6. A person has a hearing range from 20 Hz to 20 kHz. What are the typical wavelengths of sound waves in air corresponding to these two frequencies? Take the speed of sound in air as 344 m s⁻¹.\n",
      "\n",
      "7. Two children are at opposite ends of an aluminium rod. One strikes the end of the rod with a stone. Find the ratio of times taken by the sound wave in air and in aluminium to reach the second child.\n",
      "\n",
      "8. The frequency of a source of sound is 100 Hz. How many times does it vibrate in a minute?\n",
      "\n",
      "9. Does sound follow the same laws of reflection as light does? Explain.\n",
      "\n",
      "10. When a sound is reflected from a distant object, an echo is produced. Let the distance between the reflecting surface and the source of sound production remains the same. Do you hear echo sound on a hotter day?\n",
      "\n",
      "11. Give two practical applications of reflection of sound waves.\n",
      "\n",
      "12. A stone is dropped from the top of a tower 500 m high into a pond of water at the base of the tower. When is the splash heard at the top? Given, g = 10 m s⁻² and speed of sound = 340 m s⁻¹.\n",
      "\n",
      "138 SCIENCE\n",
      "\n",
      "Rationalised 2023-24\n"
     ]
    }
   ],
   "source": [
    "print(documents[-2].text[::])"
   ]
  },
  {
   "cell_type": "code",
   "execution_count": 45,
   "metadata": {},
   "outputs": [],
   "source": [
    "questions = {\n",
    "1 : \"What is sound and how is it produced?\",\n",
    "\n",
    "2: \"Describe with the help of a diagram, how compressions and rarefactions are produced in air near a source of sound.\",\n",
    "\n",
    "3: \"Why is sound wave called a longitudinal wave?\",\n",
    "\n",
    "4: \"Which characteristic of the sound helps you to identify your friend by his voice while sitting with others in a dark room?\",\n",
    "\n",
    "5: \"Flash and thunder are produced simultaneously. But thunder is heard a few seconds after the flash is seen, why?\",\n",
    "\n",
    "6: \"A person has a hearing range from 20 Hz to 20 kHz. What are the typical wavelengths of sound waves in air corresponding to these two frequencies? Take the speed of sound in air as 344 m s⁻¹.\",\n",
    "\n",
    "7: \"Two children are at opposite ends of an aluminium rod. One strikes the end of the rod with a stone. Find the ratio of times taken by the sound wave in air and in aluminium to reach the second child.\",\n",
    "\n",
    "8: \"The frequency of a source of sound is 100 Hz. How many times does it vibrate in a minute?\",\n",
    "\n",
    "9: \"Does sound follow the same laws of reflection as light does? Explain.\",\n",
    "\n",
    "10: \"When a sound is reflected from a distant object, an echo is produced. Let the distance between the reflecting surface and the source of sound production remains the same. Do you hear echo sound on a hotter day?\",\n",
    "\n",
    "11: \"Give two practical applications of reflection of sound waves.\",\n",
    "\n",
    "12: \"A stone is dropped from the top of a tower 500 m high into a pond of water at the base of the tower. When is the splash heard at the top? Given, g = 10 m s⁻² and speed of sound = 340 m s⁻¹.\",\n",
    "\n",
    "13: \"A sound wave travels at a speed of 339 m s⁻¹. If its wavelength is 1.5 cm, what is the frequency of the wave? Will it be audible?\",\n",
    "\n",
    "14: \"What is reverberation? How can it be reduced?\",\n",
    "\n",
    "15: \"What is loudness of sound? What factors does it depend on?\",\n",
    "\n",
    "16: \"How is ultrasound used for cleaning?\",\n",
    "\n",
    "17: \"Explain how defects in a metal block can be detected using ultrasound.\"\n",
    "}\n"
   ]
  },
  {
   "cell_type": "code",
   "execution_count": 38,
   "metadata": {},
   "outputs": [],
   "source": [
    "answers = []\n",
    "\n",
    "for value in questions.values(): \n",
    "    repo = recursive_query_engine.query(value)\n",
    "    answers.append(repo)"
   ]
  },
  {
   "cell_type": "code",
   "execution_count": 42,
   "metadata": {},
   "outputs": [
    {
     "name": "stdout",
     "output_type": "stream",
     "text": [
      "To find the frequency of the wave, we can use the formula: speed = wavelength × frequency. Rearranging the formula to solve for frequency, we get: frequency = speed / wavelength. Plugging in the given values, we get: frequency = 339 m/s / 0.015 m = 22600 Hz.\n",
      "\n",
      "Since the frequency of the wave is 22600 Hz, which is greater than 20000 Hz, it will not be audible to the human ear. The audible range of hearing for average human beings is in the frequency range of 20 Hz – 20 kHz.\n"
     ]
    }
   ],
   "source": [
    "print(answers[6])"
   ]
  },
  {
   "cell_type": "code",
   "execution_count": 48,
   "metadata": {},
   "outputs": [
    {
     "data": {
      "text/plain": [
       "dict_items([(1, 'What is sound and how is it produced?'), (2, 'Describe with the help of a diagram, how compressions and rarefactions are produced in air near a source of sound.'), (3, 'Why is sound wave called a longitudinal wave?'), (4, 'Which characteristic of the sound helps you to identify your friend by his voice while sitting with others in a dark room?'), (5, 'Flash and thunder are produced simultaneously. But thunder is heard a few seconds after the flash is seen, why?'), (6, 'A person has a hearing range from 20 Hz to 20 kHz. What are the typical wavelengths of sound waves in air corresponding to these two frequencies? Take the speed of sound in air as 344 m s⁻¹.'), (7, 'Two children are at opposite ends of an aluminium rod. One strikes the end of the rod with a stone. Find the ratio of times taken by the sound wave in air and in aluminium to reach the second child.'), (8, 'The frequency of a source of sound is 100 Hz. How many times does it vibrate in a minute?'), (9, 'Does sound follow the same laws of reflection as light does? Explain.'), (10, 'When a sound is reflected from a distant object, an echo is produced. Let the distance between the reflecting surface and the source of sound production remains the same. Do you hear echo sound on a hotter day?'), (11, 'Give two practical applications of reflection of sound waves.'), (12, 'A stone is dropped from the top of a tower 500 m high into a pond of water at the base of the tower. When is the splash heard at the top? Given, g = 10 m s⁻² and speed of sound = 340 m s⁻¹.'), (13, 'A sound wave travels at a speed of 339 m s⁻¹. If its wavelength is 1.5 cm, what is the frequency of the wave? Will it be audible?'), (14, 'What is reverberation? How can it be reduced?'), (15, 'What is loudness of sound? What factors does it depend on?'), (16, 'How is ultrasound used for cleaning?'), (17, 'Explain how defects in a metal block can be detected using ultrasound.')])"
      ]
     },
     "execution_count": 48,
     "metadata": {},
     "output_type": "execute_result"
    }
   ],
   "source": [
    "questions.items()"
   ]
  },
  {
   "cell_type": "code",
   "execution_count": 51,
   "metadata": {},
   "outputs": [],
   "source": [
    "ans = {}\n",
    "for key, value in questions.items():\n",
    "    ans[key] = recursive_query_engine.query(value)"
   ]
  },
  {
   "cell_type": "code",
   "execution_count": 63,
   "metadata": {},
   "outputs": [
    {
     "name": "stdout",
     "output_type": "stream",
     "text": [
      "Reverberation is the persistence of sound due to repeated reflections from surfaces, resulting in a prolonged sound that can be heard even after the original sound has stopped. To reduce reverberation, the roof and walls of a hall or auditorium can be covered with sound-absorbent materials like compressed fibreboard, rough plaster, or draperies. Additionally, selecting seat materials with sound-absorbing properties can also help reduce reverberation.\n"
     ]
    }
   ],
   "source": [
    "print(ans[14])"
   ]
  },
  {
   "cell_type": "code",
   "execution_count": null,
   "metadata": {},
   "outputs": [],
   "source": []
  }
 ],
 "metadata": {
  "kernelspec": {
   "display_name": "myenv",
   "language": "python",
   "name": "python3"
  },
  "language_info": {
   "codemirror_mode": {
    "name": "ipython",
    "version": 3
   },
   "file_extension": ".py",
   "mimetype": "text/x-python",
   "name": "python",
   "nbconvert_exporter": "python",
   "pygments_lexer": "ipython3",
   "version": "3.10.11"
  }
 },
 "nbformat": 4,
 "nbformat_minor": 2
}
